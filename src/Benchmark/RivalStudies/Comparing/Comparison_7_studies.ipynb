{
 "cells": [
  {
   "cell_type": "markdown",
   "source": [
    "# Comparing Predator with other studies (Revision)\n",
    "\n",
    "Nov 9th, 2022\n",
    "\n",
    "Studies:\n",
    "1. Predator\n",
    "2. SAAMBE_3D\n",
    "3. PANDA\n",
    "4. mCSM-PPI2\n",
    "5. MutaBind2\n",
    "6. ELASPIC ΔΔG (Fixed Threshold)\n",
    "7. Provean (Fixed Threshold)"
   ],
   "metadata": {
    "collapsed": false,
    "pycharm": {
     "name": "#%% md\n"
    }
   }
  },
  {
   "cell_type": "code",
   "execution_count": 1,
   "outputs": [],
   "source": [
    "import pandas as pd"
   ],
   "metadata": {
    "collapsed": false,
    "pycharm": {
     "name": "#%%\n"
    }
   }
  },
  {
   "cell_type": "code",
   "execution_count": 2,
   "outputs": [],
   "source": [
    "# 1\n",
    "PREDATOR_PREDICTIONS_DATA_PATH = \"../../LeaveOneComplexOut/leave_one_complex_out_result_data_simplified_2022-06-19.csv\"\n",
    "# 2\n",
    "SAAMBE_3D_PREDICTIONS_DATA_PATH = \"../SAAMBE_3D_Study/SAAMBE-3D-master/SAAMBE_3D_predictions_2022-06-19.csv\"\n",
    "# 3\n",
    "PANDA_PREDICTIONS_DATA_PATH = \"../PANDA/panda-master/train_data_with_PANDA_prediction_2022-06-19.csv\"\n",
    "# 4\n",
    "MCSM_PPI2_PREDICTION_DATA_PATH = \"../mCSM_PPI2/src/Record/mcsm_ppi2_predictions_2022-06-19.csv\"\n",
    "# 5\n",
    "# MUTABIND2_PREDICTION_DATA_PATH =\"../MutaBind2/src/Record/mutabind2_predictions_2022-11-09.csv\"\n",
    "MUTABIND2_PREDICTION_DATA_PATH =\"../MutaBind2/src/Record/mutabind2_predictions_with_interface_col_2022-11-09.csv\"\n",
    "# 6\n",
    "ELASPIC_DDG_FIXED_PREDICTIONS_PATH = \"../ELASPIC_ddG/ELASPIC_ddG_Fixed_Predictions_2022-06-19.csv\"\n",
    "# 7\n",
    "PROVEAN_FIXED_PREDICTIONS_PATH = \"../PROVEAN/Provean_Fixed_Predictions_2022-06-19.csv\""
   ],
   "metadata": {
    "collapsed": false,
    "pycharm": {
     "name": "#%%\n"
    }
   }
  },
  {
   "cell_type": "markdown",
   "source": [
    "#### 1. Predator Predictions"
   ],
   "metadata": {
    "collapsed": false,
    "pycharm": {
     "name": "#%% md\n"
    }
   }
  },
  {
   "cell_type": "code",
   "execution_count": 3,
   "outputs": [
    {
     "data": {
      "text/plain": "     Mutation_Effect_Label UniProt_ID Mutation Interactor_UniProt_ID  \\\n0                        1     Q9BPZ3    F118A                P11940   \n1                        1     P01116     Y40C                P50749   \n2                        1     Q96QK1    F534D                Q9UBQ0   \n3                        1     Q96QK1    F534D              Q9UBQ0-2   \n4                        1   O43521-3     G66A                Q07812   \n..                     ...        ...      ...                   ...   \n735                      1     P84243     Q94A              Q9UER7-3   \n736                      1     Q96QK1    L589D                Q9UBQ0   \n737                      1     Q96QK1    L589D              Q9UBQ0-2   \n738                      1     P23297     F72L                P25815   \n739                      1     Q15836     L46P                O43752   \n\n    Template_cath_id  PREDATOR_DEFAULT  PREDATOR_FS  PREDATOR_FS_HP  \n0              1jgnB                 0            0               1  \n1              3ddcA                 1            1               1  \n2              2r17C                 1            1               1  \n3              2r17C                 1            1               1  \n4              3fdlB                 0            0               0  \n..               ...               ...          ...             ...  \n735            4hgaB                 1            1               1  \n736            2r17C                 1            1               1  \n737            2r17C                 1            1               1  \n738            2y5iA                 1            1               1  \n739            2npsA                 1            1               1  \n\n[740 rows x 8 columns]",
      "text/html": "<div>\n<style scoped>\n    .dataframe tbody tr th:only-of-type {\n        vertical-align: middle;\n    }\n\n    .dataframe tbody tr th {\n        vertical-align: top;\n    }\n\n    .dataframe thead th {\n        text-align: right;\n    }\n</style>\n<table border=\"1\" class=\"dataframe\">\n  <thead>\n    <tr style=\"text-align: right;\">\n      <th></th>\n      <th>Mutation_Effect_Label</th>\n      <th>UniProt_ID</th>\n      <th>Mutation</th>\n      <th>Interactor_UniProt_ID</th>\n      <th>Template_cath_id</th>\n      <th>PREDATOR_DEFAULT</th>\n      <th>PREDATOR_FS</th>\n      <th>PREDATOR_FS_HP</th>\n    </tr>\n  </thead>\n  <tbody>\n    <tr>\n      <th>0</th>\n      <td>1</td>\n      <td>Q9BPZ3</td>\n      <td>F118A</td>\n      <td>P11940</td>\n      <td>1jgnB</td>\n      <td>0</td>\n      <td>0</td>\n      <td>1</td>\n    </tr>\n    <tr>\n      <th>1</th>\n      <td>1</td>\n      <td>P01116</td>\n      <td>Y40C</td>\n      <td>P50749</td>\n      <td>3ddcA</td>\n      <td>1</td>\n      <td>1</td>\n      <td>1</td>\n    </tr>\n    <tr>\n      <th>2</th>\n      <td>1</td>\n      <td>Q96QK1</td>\n      <td>F534D</td>\n      <td>Q9UBQ0</td>\n      <td>2r17C</td>\n      <td>1</td>\n      <td>1</td>\n      <td>1</td>\n    </tr>\n    <tr>\n      <th>3</th>\n      <td>1</td>\n      <td>Q96QK1</td>\n      <td>F534D</td>\n      <td>Q9UBQ0-2</td>\n      <td>2r17C</td>\n      <td>1</td>\n      <td>1</td>\n      <td>1</td>\n    </tr>\n    <tr>\n      <th>4</th>\n      <td>1</td>\n      <td>O43521-3</td>\n      <td>G66A</td>\n      <td>Q07812</td>\n      <td>3fdlB</td>\n      <td>0</td>\n      <td>0</td>\n      <td>0</td>\n    </tr>\n    <tr>\n      <th>...</th>\n      <td>...</td>\n      <td>...</td>\n      <td>...</td>\n      <td>...</td>\n      <td>...</td>\n      <td>...</td>\n      <td>...</td>\n      <td>...</td>\n    </tr>\n    <tr>\n      <th>735</th>\n      <td>1</td>\n      <td>P84243</td>\n      <td>Q94A</td>\n      <td>Q9UER7-3</td>\n      <td>4hgaB</td>\n      <td>1</td>\n      <td>1</td>\n      <td>1</td>\n    </tr>\n    <tr>\n      <th>736</th>\n      <td>1</td>\n      <td>Q96QK1</td>\n      <td>L589D</td>\n      <td>Q9UBQ0</td>\n      <td>2r17C</td>\n      <td>1</td>\n      <td>1</td>\n      <td>1</td>\n    </tr>\n    <tr>\n      <th>737</th>\n      <td>1</td>\n      <td>Q96QK1</td>\n      <td>L589D</td>\n      <td>Q9UBQ0-2</td>\n      <td>2r17C</td>\n      <td>1</td>\n      <td>1</td>\n      <td>1</td>\n    </tr>\n    <tr>\n      <th>738</th>\n      <td>1</td>\n      <td>P23297</td>\n      <td>F72L</td>\n      <td>P25815</td>\n      <td>2y5iA</td>\n      <td>1</td>\n      <td>1</td>\n      <td>1</td>\n    </tr>\n    <tr>\n      <th>739</th>\n      <td>1</td>\n      <td>Q15836</td>\n      <td>L46P</td>\n      <td>O43752</td>\n      <td>2npsA</td>\n      <td>1</td>\n      <td>1</td>\n      <td>1</td>\n    </tr>\n  </tbody>\n</table>\n<p>740 rows × 8 columns</p>\n</div>"
     },
     "execution_count": 3,
     "metadata": {},
     "output_type": "execute_result"
    }
   ],
   "source": [
    "predator_predictions_data = pd.read_csv(\n",
    "    PREDATOR_PREDICTIONS_DATA_PATH, usecols=[\n",
    "        \"Mutation_Effect_Label\", \"UniProt_ID\", \"Mutation\", \"Interactor_UniProt_ID\", \"Template_cath_id\",\n",
    "        \"Prediction_default\", \"Prediction_FS\", \"Prediction_FS_HP\"\n",
    "    ]\n",
    ")\n",
    "\n",
    "predator_predictions_data.rename(\n",
    "    columns={\n",
    "        \"Prediction_default\": \"PREDATOR_DEFAULT\",\n",
    "        \"Prediction_FS\": \"PREDATOR_FS\",\n",
    "        \"Prediction_FS_HP\": \"PREDATOR_FS_HP\",\n",
    "    }, inplace=True\n",
    ")\n",
    "\n",
    "predator_predictions_data"
   ],
   "metadata": {
    "collapsed": false,
    "pycharm": {
     "name": "#%%\n"
    }
   }
  },
  {
   "cell_type": "markdown",
   "source": [
    "#### 2. SAAMBE-3D Predictions"
   ],
   "metadata": {
    "collapsed": false,
    "pycharm": {
     "name": "#%% md\n"
    }
   }
  },
  {
   "cell_type": "code",
   "execution_count": 4,
   "outputs": [
    {
     "data": {
      "text/plain": "     Mutation_Effect_Label UniProt_ID Mutation Interactor_UniProt_ID  \\\n0                        1     Q9BPZ3    F118A                P11940   \n1                        1     P01116     Y40C                P50749   \n2                        1     Q96QK1    F534D                Q9UBQ0   \n3                        1     Q96QK1    F534D              Q9UBQ0-2   \n4                        1   O43521-3     G66A                Q07812   \n..                     ...        ...      ...                   ...   \n735                      1     P84243     Q94A              Q9UER7-3   \n736                      1     Q96QK1    L589D                Q9UBQ0   \n737                      1     Q96QK1    L589D              Q9UBQ0-2   \n738                      1     P23297     F72L                P25815   \n739                      1     Q15836     L46P                O43752   \n\n    Template_cath_id      SAAMBE_3D  \n0              1jgnB  not_available  \n1              3ddcA            0.0  \n2              2r17C            0.0  \n3              2r17C            0.0  \n4              3fdlB  not_available  \n..               ...            ...  \n735            4hgaB  not_available  \n736            2r17C            0.0  \n737            2r17C            0.0  \n738            2y5iA            0.0  \n739            2npsA  not_available  \n\n[740 rows x 6 columns]",
      "text/html": "<div>\n<style scoped>\n    .dataframe tbody tr th:only-of-type {\n        vertical-align: middle;\n    }\n\n    .dataframe tbody tr th {\n        vertical-align: top;\n    }\n\n    .dataframe thead th {\n        text-align: right;\n    }\n</style>\n<table border=\"1\" class=\"dataframe\">\n  <thead>\n    <tr style=\"text-align: right;\">\n      <th></th>\n      <th>Mutation_Effect_Label</th>\n      <th>UniProt_ID</th>\n      <th>Mutation</th>\n      <th>Interactor_UniProt_ID</th>\n      <th>Template_cath_id</th>\n      <th>SAAMBE_3D</th>\n    </tr>\n  </thead>\n  <tbody>\n    <tr>\n      <th>0</th>\n      <td>1</td>\n      <td>Q9BPZ3</td>\n      <td>F118A</td>\n      <td>P11940</td>\n      <td>1jgnB</td>\n      <td>not_available</td>\n    </tr>\n    <tr>\n      <th>1</th>\n      <td>1</td>\n      <td>P01116</td>\n      <td>Y40C</td>\n      <td>P50749</td>\n      <td>3ddcA</td>\n      <td>0.0</td>\n    </tr>\n    <tr>\n      <th>2</th>\n      <td>1</td>\n      <td>Q96QK1</td>\n      <td>F534D</td>\n      <td>Q9UBQ0</td>\n      <td>2r17C</td>\n      <td>0.0</td>\n    </tr>\n    <tr>\n      <th>3</th>\n      <td>1</td>\n      <td>Q96QK1</td>\n      <td>F534D</td>\n      <td>Q9UBQ0-2</td>\n      <td>2r17C</td>\n      <td>0.0</td>\n    </tr>\n    <tr>\n      <th>4</th>\n      <td>1</td>\n      <td>O43521-3</td>\n      <td>G66A</td>\n      <td>Q07812</td>\n      <td>3fdlB</td>\n      <td>not_available</td>\n    </tr>\n    <tr>\n      <th>...</th>\n      <td>...</td>\n      <td>...</td>\n      <td>...</td>\n      <td>...</td>\n      <td>...</td>\n      <td>...</td>\n    </tr>\n    <tr>\n      <th>735</th>\n      <td>1</td>\n      <td>P84243</td>\n      <td>Q94A</td>\n      <td>Q9UER7-3</td>\n      <td>4hgaB</td>\n      <td>not_available</td>\n    </tr>\n    <tr>\n      <th>736</th>\n      <td>1</td>\n      <td>Q96QK1</td>\n      <td>L589D</td>\n      <td>Q9UBQ0</td>\n      <td>2r17C</td>\n      <td>0.0</td>\n    </tr>\n    <tr>\n      <th>737</th>\n      <td>1</td>\n      <td>Q96QK1</td>\n      <td>L589D</td>\n      <td>Q9UBQ0-2</td>\n      <td>2r17C</td>\n      <td>0.0</td>\n    </tr>\n    <tr>\n      <th>738</th>\n      <td>1</td>\n      <td>P23297</td>\n      <td>F72L</td>\n      <td>P25815</td>\n      <td>2y5iA</td>\n      <td>0.0</td>\n    </tr>\n    <tr>\n      <th>739</th>\n      <td>1</td>\n      <td>Q15836</td>\n      <td>L46P</td>\n      <td>O43752</td>\n      <td>2npsA</td>\n      <td>not_available</td>\n    </tr>\n  </tbody>\n</table>\n<p>740 rows × 6 columns</p>\n</div>"
     },
     "execution_count": 4,
     "metadata": {},
     "output_type": "execute_result"
    }
   ],
   "source": [
    "saambe_3d_predictions_data = pd.read_csv(\n",
    "    SAAMBE_3D_PREDICTIONS_DATA_PATH, usecols=[\n",
    "        \"Mutation_Effect_Label\", \"UniProt_ID\", \"Mutation\", \"Interactor_UniProt_ID\", \"Template_cath_id\", \"Prediction\"\n",
    "    ]\n",
    ")\n",
    "\n",
    "saambe_3d_predictions_data.rename(\n",
    "    columns={\"Prediction\": \"SAAMBE_3D\"}, inplace=True\n",
    ")\n",
    "\n",
    "saambe_3d_predictions_data[\"SAAMBE_3D\"] = saambe_3d_predictions_data[\"SAAMBE_3D\"].fillna(\"not_available\")\n",
    "\n",
    "saambe_3d_predictions_data"
   ],
   "metadata": {
    "collapsed": false,
    "pycharm": {
     "name": "#%%\n"
    }
   }
  },
  {
   "cell_type": "markdown",
   "source": [
    "#### 3. PANDA Predictions"
   ],
   "metadata": {
    "collapsed": false,
    "pycharm": {
     "name": "#%% md\n"
    }
   }
  },
  {
   "cell_type": "code",
   "execution_count": 5,
   "outputs": [
    {
     "data": {
      "text/plain": "     Mutation_Effect_Label UniProt_ID Mutation Interactor_UniProt_ID  \\\n0                        1     Q9BPZ3    F118A                P11940   \n1                        1     P01116     Y40C                P50749   \n2                        1     Q96QK1    F534D                Q9UBQ0   \n3                        1     Q96QK1    F534D              Q9UBQ0-2   \n4                        1   O43521-3     G66A                Q07812   \n..                     ...        ...      ...                   ...   \n735                      1     P84243     Q94A              Q9UER7-3   \n736                      1     Q96QK1    L589D                Q9UBQ0   \n737                      1     Q96QK1    L589D              Q9UBQ0-2   \n738                      1     P23297     F72L                P25815   \n739                      1     Q15836     L46P                O43752   \n\n    Template_cath_id  PANDA  \n0              1jgnB      1  \n1              3ddcA      1  \n2              2r17C      1  \n3              2r17C      1  \n4              3fdlB      1  \n..               ...    ...  \n735            4hgaB      1  \n736            2r17C      1  \n737            2r17C      1  \n738            2y5iA      1  \n739            2npsA      1  \n\n[740 rows x 6 columns]",
      "text/html": "<div>\n<style scoped>\n    .dataframe tbody tr th:only-of-type {\n        vertical-align: middle;\n    }\n\n    .dataframe tbody tr th {\n        vertical-align: top;\n    }\n\n    .dataframe thead th {\n        text-align: right;\n    }\n</style>\n<table border=\"1\" class=\"dataframe\">\n  <thead>\n    <tr style=\"text-align: right;\">\n      <th></th>\n      <th>Mutation_Effect_Label</th>\n      <th>UniProt_ID</th>\n      <th>Mutation</th>\n      <th>Interactor_UniProt_ID</th>\n      <th>Template_cath_id</th>\n      <th>PANDA</th>\n    </tr>\n  </thead>\n  <tbody>\n    <tr>\n      <th>0</th>\n      <td>1</td>\n      <td>Q9BPZ3</td>\n      <td>F118A</td>\n      <td>P11940</td>\n      <td>1jgnB</td>\n      <td>1</td>\n    </tr>\n    <tr>\n      <th>1</th>\n      <td>1</td>\n      <td>P01116</td>\n      <td>Y40C</td>\n      <td>P50749</td>\n      <td>3ddcA</td>\n      <td>1</td>\n    </tr>\n    <tr>\n      <th>2</th>\n      <td>1</td>\n      <td>Q96QK1</td>\n      <td>F534D</td>\n      <td>Q9UBQ0</td>\n      <td>2r17C</td>\n      <td>1</td>\n    </tr>\n    <tr>\n      <th>3</th>\n      <td>1</td>\n      <td>Q96QK1</td>\n      <td>F534D</td>\n      <td>Q9UBQ0-2</td>\n      <td>2r17C</td>\n      <td>1</td>\n    </tr>\n    <tr>\n      <th>4</th>\n      <td>1</td>\n      <td>O43521-3</td>\n      <td>G66A</td>\n      <td>Q07812</td>\n      <td>3fdlB</td>\n      <td>1</td>\n    </tr>\n    <tr>\n      <th>...</th>\n      <td>...</td>\n      <td>...</td>\n      <td>...</td>\n      <td>...</td>\n      <td>...</td>\n      <td>...</td>\n    </tr>\n    <tr>\n      <th>735</th>\n      <td>1</td>\n      <td>P84243</td>\n      <td>Q94A</td>\n      <td>Q9UER7-3</td>\n      <td>4hgaB</td>\n      <td>1</td>\n    </tr>\n    <tr>\n      <th>736</th>\n      <td>1</td>\n      <td>Q96QK1</td>\n      <td>L589D</td>\n      <td>Q9UBQ0</td>\n      <td>2r17C</td>\n      <td>1</td>\n    </tr>\n    <tr>\n      <th>737</th>\n      <td>1</td>\n      <td>Q96QK1</td>\n      <td>L589D</td>\n      <td>Q9UBQ0-2</td>\n      <td>2r17C</td>\n      <td>1</td>\n    </tr>\n    <tr>\n      <th>738</th>\n      <td>1</td>\n      <td>P23297</td>\n      <td>F72L</td>\n      <td>P25815</td>\n      <td>2y5iA</td>\n      <td>1</td>\n    </tr>\n    <tr>\n      <th>739</th>\n      <td>1</td>\n      <td>Q15836</td>\n      <td>L46P</td>\n      <td>O43752</td>\n      <td>2npsA</td>\n      <td>1</td>\n    </tr>\n  </tbody>\n</table>\n<p>740 rows × 6 columns</p>\n</div>"
     },
     "execution_count": 5,
     "metadata": {},
     "output_type": "execute_result"
    }
   ],
   "source": [
    "panda_predictions_data = pd.read_csv(\n",
    "    PANDA_PREDICTIONS_DATA_PATH, usecols=[\n",
    "        \"Mutation_Effect_Label\", \"UniProt_ID\", \"Mutation\", \"Interactor_UniProt_ID\", \"Template_cath_id\",\n",
    "        \"PANDA_Predictions\"\n",
    "    ]\n",
    ")\n",
    "panda_predictions_data.rename(columns={\"PANDA_Predictions\": \"PANDA\"}, inplace=True)\n",
    "panda_predictions_data"
   ],
   "metadata": {
    "collapsed": false,
    "pycharm": {
     "name": "#%%\n"
    }
   }
  },
  {
   "cell_type": "markdown",
   "source": [
    "#### 4. mCSM_PPI2 Predictions"
   ],
   "metadata": {
    "collapsed": false,
    "pycharm": {
     "name": "#%% md\n"
    }
   }
  },
  {
   "cell_type": "code",
   "execution_count": 6,
   "outputs": [
    {
     "data": {
      "text/plain": "     Mutation_Effect_Label UniProt_ID Mutation Interactor_UniProt_ID  \\\n0                        1     Q9BPZ3    F118A                P11940   \n1                        1     P01116     Y40C                P50749   \n2                        1     Q96QK1    F534D                Q9UBQ0   \n3                        1     Q96QK1    F534D              Q9UBQ0-2   \n4                        1   O43521-3     G66A                Q07812   \n..                     ...        ...      ...                   ...   \n735                      1     P84243     Q94A              Q9UER7-3   \n736                      1     Q96QK1    L589D                Q9UBQ0   \n737                      1     Q96QK1    L589D              Q9UBQ0-2   \n738                      1     P23297     F72L                P25815   \n739                      1     Q15836     L46P                O43752   \n\n    Template_cath_id       mCSM_PP2  \n0              1jgnB  not_available  \n1              3ddcA            1.0  \n2              2r17C            1.0  \n3              2r17C            1.0  \n4              3fdlB  not_available  \n..               ...            ...  \n735            4hgaB  not_available  \n736            2r17C            1.0  \n737            2r17C            1.0  \n738            2y5iA            1.0  \n739            2npsA  not_available  \n\n[740 rows x 6 columns]",
      "text/html": "<div>\n<style scoped>\n    .dataframe tbody tr th:only-of-type {\n        vertical-align: middle;\n    }\n\n    .dataframe tbody tr th {\n        vertical-align: top;\n    }\n\n    .dataframe thead th {\n        text-align: right;\n    }\n</style>\n<table border=\"1\" class=\"dataframe\">\n  <thead>\n    <tr style=\"text-align: right;\">\n      <th></th>\n      <th>Mutation_Effect_Label</th>\n      <th>UniProt_ID</th>\n      <th>Mutation</th>\n      <th>Interactor_UniProt_ID</th>\n      <th>Template_cath_id</th>\n      <th>mCSM_PP2</th>\n    </tr>\n  </thead>\n  <tbody>\n    <tr>\n      <th>0</th>\n      <td>1</td>\n      <td>Q9BPZ3</td>\n      <td>F118A</td>\n      <td>P11940</td>\n      <td>1jgnB</td>\n      <td>not_available</td>\n    </tr>\n    <tr>\n      <th>1</th>\n      <td>1</td>\n      <td>P01116</td>\n      <td>Y40C</td>\n      <td>P50749</td>\n      <td>3ddcA</td>\n      <td>1.0</td>\n    </tr>\n    <tr>\n      <th>2</th>\n      <td>1</td>\n      <td>Q96QK1</td>\n      <td>F534D</td>\n      <td>Q9UBQ0</td>\n      <td>2r17C</td>\n      <td>1.0</td>\n    </tr>\n    <tr>\n      <th>3</th>\n      <td>1</td>\n      <td>Q96QK1</td>\n      <td>F534D</td>\n      <td>Q9UBQ0-2</td>\n      <td>2r17C</td>\n      <td>1.0</td>\n    </tr>\n    <tr>\n      <th>4</th>\n      <td>1</td>\n      <td>O43521-3</td>\n      <td>G66A</td>\n      <td>Q07812</td>\n      <td>3fdlB</td>\n      <td>not_available</td>\n    </tr>\n    <tr>\n      <th>...</th>\n      <td>...</td>\n      <td>...</td>\n      <td>...</td>\n      <td>...</td>\n      <td>...</td>\n      <td>...</td>\n    </tr>\n    <tr>\n      <th>735</th>\n      <td>1</td>\n      <td>P84243</td>\n      <td>Q94A</td>\n      <td>Q9UER7-3</td>\n      <td>4hgaB</td>\n      <td>not_available</td>\n    </tr>\n    <tr>\n      <th>736</th>\n      <td>1</td>\n      <td>Q96QK1</td>\n      <td>L589D</td>\n      <td>Q9UBQ0</td>\n      <td>2r17C</td>\n      <td>1.0</td>\n    </tr>\n    <tr>\n      <th>737</th>\n      <td>1</td>\n      <td>Q96QK1</td>\n      <td>L589D</td>\n      <td>Q9UBQ0-2</td>\n      <td>2r17C</td>\n      <td>1.0</td>\n    </tr>\n    <tr>\n      <th>738</th>\n      <td>1</td>\n      <td>P23297</td>\n      <td>F72L</td>\n      <td>P25815</td>\n      <td>2y5iA</td>\n      <td>1.0</td>\n    </tr>\n    <tr>\n      <th>739</th>\n      <td>1</td>\n      <td>Q15836</td>\n      <td>L46P</td>\n      <td>O43752</td>\n      <td>2npsA</td>\n      <td>not_available</td>\n    </tr>\n  </tbody>\n</table>\n<p>740 rows × 6 columns</p>\n</div>"
     },
     "execution_count": 6,
     "metadata": {},
     "output_type": "execute_result"
    }
   ],
   "source": [
    "mcsm_ppi2_predictions_data = pd.read_csv(\n",
    "    MCSM_PPI2_PREDICTION_DATA_PATH\n",
    ")\n",
    "\n",
    "mcsm_ppi2_predictions_data.insert(\n",
    "    4,\n",
    "    \"Template_cath_id\",\n",
    "    mcsm_ppi2_predictions_data[\"pdb_id\"] + mcsm_ppi2_predictions_data[\"chain_id\"]\n",
    ")\n",
    "\n",
    "mcsm_ppi2_predictions_data.drop([\"pdb_id\", \"chain_id\"], inplace=True, axis=\"columns\")\n",
    "\n",
    "mcsm_ppi2_predictions_data.rename(\n",
    "    columns={\"mCSM_PP2_Prediction\": \"mCSM_PP2\"}, inplace=True\n",
    ")\n",
    "\n",
    "mcsm_ppi2_predictions_data[\"mCSM_PP2\"] = mcsm_ppi2_predictions_data[\"mCSM_PP2\"].fillna(\"not_available\")\n",
    "\n",
    "mcsm_ppi2_predictions_data"
   ],
   "metadata": {
    "collapsed": false,
    "pycharm": {
     "name": "#%%\n"
    }
   }
  },
  {
   "cell_type": "markdown",
   "source": [
    "#### 5. Mutabind2 Predictions"
   ],
   "metadata": {
    "collapsed": false,
    "pycharm": {
     "name": "#%% md\n"
    }
   }
  },
  {
   "cell_type": "code",
   "execution_count": 7,
   "outputs": [
    {
     "data": {
      "text/plain": "     Mutation_Effect_Label UniProt_ID Mutation Interactor_UniProt_ID  \\\n0                        1     Q9BPZ3    F118A                P11940   \n1                        1     P01116     Y40C                P50749   \n2                        1     Q96QK1    F534D                Q9UBQ0   \n3                        1     Q96QK1    F534D              Q9UBQ0-2   \n4                        1   O43521-3     G66A                Q07812   \n..                     ...        ...      ...                   ...   \n735                      1     P84243     Q94A              Q9UER7-3   \n736                      1     Q96QK1    L589D                Q9UBQ0   \n737                      1     Q96QK1    L589D              Q9UBQ0-2   \n738                      1     P23297     F72L                P25815   \n739                      1     Q15836     L46P                O43752   \n\n    Template_cath_id  DDG_PREDICTED INTERFACE      MUTABIND2  \n0              1jgnB            NaN       NaN  not_available  \n1              3ddcA           2.38       Yes            1.0  \n2              2r17C           1.64       Yes            1.0  \n3              2r17C           1.62       Yes            1.0  \n4              3fdlB            NaN       NaN  not_available  \n..               ...            ...       ...            ...  \n735            4hgaB            NaN       NaN  not_available  \n736            2r17C           1.37       Yes            0.0  \n737            2r17C           1.39       Yes            0.0  \n738            2y5iA           2.09       Yes            1.0  \n739            2npsA            NaN       NaN  not_available  \n\n[740 rows x 8 columns]",
      "text/html": "<div>\n<style scoped>\n    .dataframe tbody tr th:only-of-type {\n        vertical-align: middle;\n    }\n\n    .dataframe tbody tr th {\n        vertical-align: top;\n    }\n\n    .dataframe thead th {\n        text-align: right;\n    }\n</style>\n<table border=\"1\" class=\"dataframe\">\n  <thead>\n    <tr style=\"text-align: right;\">\n      <th></th>\n      <th>Mutation_Effect_Label</th>\n      <th>UniProt_ID</th>\n      <th>Mutation</th>\n      <th>Interactor_UniProt_ID</th>\n      <th>Template_cath_id</th>\n      <th>DDG_PREDICTED</th>\n      <th>INTERFACE</th>\n      <th>MUTABIND2</th>\n    </tr>\n  </thead>\n  <tbody>\n    <tr>\n      <th>0</th>\n      <td>1</td>\n      <td>Q9BPZ3</td>\n      <td>F118A</td>\n      <td>P11940</td>\n      <td>1jgnB</td>\n      <td>NaN</td>\n      <td>NaN</td>\n      <td>not_available</td>\n    </tr>\n    <tr>\n      <th>1</th>\n      <td>1</td>\n      <td>P01116</td>\n      <td>Y40C</td>\n      <td>P50749</td>\n      <td>3ddcA</td>\n      <td>2.38</td>\n      <td>Yes</td>\n      <td>1.0</td>\n    </tr>\n    <tr>\n      <th>2</th>\n      <td>1</td>\n      <td>Q96QK1</td>\n      <td>F534D</td>\n      <td>Q9UBQ0</td>\n      <td>2r17C</td>\n      <td>1.64</td>\n      <td>Yes</td>\n      <td>1.0</td>\n    </tr>\n    <tr>\n      <th>3</th>\n      <td>1</td>\n      <td>Q96QK1</td>\n      <td>F534D</td>\n      <td>Q9UBQ0-2</td>\n      <td>2r17C</td>\n      <td>1.62</td>\n      <td>Yes</td>\n      <td>1.0</td>\n    </tr>\n    <tr>\n      <th>4</th>\n      <td>1</td>\n      <td>O43521-3</td>\n      <td>G66A</td>\n      <td>Q07812</td>\n      <td>3fdlB</td>\n      <td>NaN</td>\n      <td>NaN</td>\n      <td>not_available</td>\n    </tr>\n    <tr>\n      <th>...</th>\n      <td>...</td>\n      <td>...</td>\n      <td>...</td>\n      <td>...</td>\n      <td>...</td>\n      <td>...</td>\n      <td>...</td>\n      <td>...</td>\n    </tr>\n    <tr>\n      <th>735</th>\n      <td>1</td>\n      <td>P84243</td>\n      <td>Q94A</td>\n      <td>Q9UER7-3</td>\n      <td>4hgaB</td>\n      <td>NaN</td>\n      <td>NaN</td>\n      <td>not_available</td>\n    </tr>\n    <tr>\n      <th>736</th>\n      <td>1</td>\n      <td>Q96QK1</td>\n      <td>L589D</td>\n      <td>Q9UBQ0</td>\n      <td>2r17C</td>\n      <td>1.37</td>\n      <td>Yes</td>\n      <td>0.0</td>\n    </tr>\n    <tr>\n      <th>737</th>\n      <td>1</td>\n      <td>Q96QK1</td>\n      <td>L589D</td>\n      <td>Q9UBQ0-2</td>\n      <td>2r17C</td>\n      <td>1.39</td>\n      <td>Yes</td>\n      <td>0.0</td>\n    </tr>\n    <tr>\n      <th>738</th>\n      <td>1</td>\n      <td>P23297</td>\n      <td>F72L</td>\n      <td>P25815</td>\n      <td>2y5iA</td>\n      <td>2.09</td>\n      <td>Yes</td>\n      <td>1.0</td>\n    </tr>\n    <tr>\n      <th>739</th>\n      <td>1</td>\n      <td>Q15836</td>\n      <td>L46P</td>\n      <td>O43752</td>\n      <td>2npsA</td>\n      <td>NaN</td>\n      <td>NaN</td>\n      <td>not_available</td>\n    </tr>\n  </tbody>\n</table>\n<p>740 rows × 8 columns</p>\n</div>"
     },
     "execution_count": 7,
     "metadata": {},
     "output_type": "execute_result"
    }
   ],
   "source": [
    "mutabind2_predictions_data = pd.read_csv(\n",
    "    MUTABIND2_PREDICTION_DATA_PATH\n",
    ")\n",
    "\n",
    "mutabind2_predictions_data.insert(\n",
    "    4,\n",
    "    \"Template_cath_id\",\n",
    "    mutabind2_predictions_data[\"pdb_id\"] + mutabind2_predictions_data[\"chain_id\"]\n",
    ")\n",
    "\n",
    "mutabind2_predictions_data.drop([\"pdb_id\", \"chain_id\"], inplace=True, axis=\"columns\")\n",
    "\n",
    "mutabind2_predictions_data.rename(\n",
    "    columns={\"MutaBind2_Prediction\": \"MUTABIND2\"}, inplace=True\n",
    ")\n",
    "\n",
    "mutabind2_predictions_data[\"MUTABIND2\"] = mutabind2_predictions_data[\"MUTABIND2\"].fillna(\"not_available\")\n",
    "\n",
    "mutabind2_predictions_data"
   ],
   "metadata": {
    "collapsed": false,
    "pycharm": {
     "name": "#%%\n"
    }
   }
  },
  {
   "cell_type": "markdown",
   "source": [
    "#### 6. ELASPIC ΔΔG Fixed Predictions"
   ],
   "metadata": {
    "collapsed": false,
    "pycharm": {
     "name": "#%% md\n"
    }
   }
  },
  {
   "cell_type": "code",
   "execution_count": 8,
   "outputs": [
    {
     "data": {
      "text/plain": "     Mutation_Effect_Label UniProt_ID Mutation Interactor_UniProt_ID  \\\n0                        1     Q9BPZ3    F118A                P11940   \n1                        1     P01116     Y40C                P50749   \n2                        1     Q96QK1    F534D                Q9UBQ0   \n3                        1     Q96QK1    F534D              Q9UBQ0-2   \n4                        1   O43521-3     G66A                Q07812   \n..                     ...        ...      ...                   ...   \n735                      1     P84243     Q94A              Q9UER7-3   \n736                      1     Q96QK1    L589D                Q9UBQ0   \n737                      1     Q96QK1    L589D              Q9UBQ0-2   \n738                      1     P23297     F72L                P25815   \n739                      1     Q15836     L46P                O43752   \n\n    Template_cath_id_pdb  ELASPIC ΔΔ (Fixed Threshold)  \n0                   1jgn                             1  \n1                   3ddc                             1  \n2                   2r17                             1  \n3                   2r17                             1  \n4                   3fdl                             1  \n..                   ...                           ...  \n735                 4hga                             0  \n736                 2r17                             1  \n737                 2r17                             1  \n738                 2y5i                             1  \n739                 2nps                             1  \n\n[740 rows x 6 columns]",
      "text/html": "<div>\n<style scoped>\n    .dataframe tbody tr th:only-of-type {\n        vertical-align: middle;\n    }\n\n    .dataframe tbody tr th {\n        vertical-align: top;\n    }\n\n    .dataframe thead th {\n        text-align: right;\n    }\n</style>\n<table border=\"1\" class=\"dataframe\">\n  <thead>\n    <tr style=\"text-align: right;\">\n      <th></th>\n      <th>Mutation_Effect_Label</th>\n      <th>UniProt_ID</th>\n      <th>Mutation</th>\n      <th>Interactor_UniProt_ID</th>\n      <th>Template_cath_id_pdb</th>\n      <th>ELASPIC ΔΔ (Fixed Threshold)</th>\n    </tr>\n  </thead>\n  <tbody>\n    <tr>\n      <th>0</th>\n      <td>1</td>\n      <td>Q9BPZ3</td>\n      <td>F118A</td>\n      <td>P11940</td>\n      <td>1jgn</td>\n      <td>1</td>\n    </tr>\n    <tr>\n      <th>1</th>\n      <td>1</td>\n      <td>P01116</td>\n      <td>Y40C</td>\n      <td>P50749</td>\n      <td>3ddc</td>\n      <td>1</td>\n    </tr>\n    <tr>\n      <th>2</th>\n      <td>1</td>\n      <td>Q96QK1</td>\n      <td>F534D</td>\n      <td>Q9UBQ0</td>\n      <td>2r17</td>\n      <td>1</td>\n    </tr>\n    <tr>\n      <th>3</th>\n      <td>1</td>\n      <td>Q96QK1</td>\n      <td>F534D</td>\n      <td>Q9UBQ0-2</td>\n      <td>2r17</td>\n      <td>1</td>\n    </tr>\n    <tr>\n      <th>4</th>\n      <td>1</td>\n      <td>O43521-3</td>\n      <td>G66A</td>\n      <td>Q07812</td>\n      <td>3fdl</td>\n      <td>1</td>\n    </tr>\n    <tr>\n      <th>...</th>\n      <td>...</td>\n      <td>...</td>\n      <td>...</td>\n      <td>...</td>\n      <td>...</td>\n      <td>...</td>\n    </tr>\n    <tr>\n      <th>735</th>\n      <td>1</td>\n      <td>P84243</td>\n      <td>Q94A</td>\n      <td>Q9UER7-3</td>\n      <td>4hga</td>\n      <td>0</td>\n    </tr>\n    <tr>\n      <th>736</th>\n      <td>1</td>\n      <td>Q96QK1</td>\n      <td>L589D</td>\n      <td>Q9UBQ0</td>\n      <td>2r17</td>\n      <td>1</td>\n    </tr>\n    <tr>\n      <th>737</th>\n      <td>1</td>\n      <td>Q96QK1</td>\n      <td>L589D</td>\n      <td>Q9UBQ0-2</td>\n      <td>2r17</td>\n      <td>1</td>\n    </tr>\n    <tr>\n      <th>738</th>\n      <td>1</td>\n      <td>P23297</td>\n      <td>F72L</td>\n      <td>P25815</td>\n      <td>2y5i</td>\n      <td>1</td>\n    </tr>\n    <tr>\n      <th>739</th>\n      <td>1</td>\n      <td>Q15836</td>\n      <td>L46P</td>\n      <td>O43752</td>\n      <td>2nps</td>\n      <td>1</td>\n    </tr>\n  </tbody>\n</table>\n<p>740 rows × 6 columns</p>\n</div>"
     },
     "execution_count": 8,
     "metadata": {},
     "output_type": "execute_result"
    }
   ],
   "source": [
    "elaspic_fixed_predictions_data = pd.read_csv(\n",
    "    ELASPIC_DDG_FIXED_PREDICTIONS_PATH, usecols=[\n",
    "        \"Mutation_Effect_Label\", \"UniProt_ID\", \"Mutation\", \"Interactor_UniProt_ID\", \"Template_cath_id_pdb\", \"Elaspic_ddG_Fixed_Prediction\"\n",
    "    ]\n",
    ")\n",
    "\n",
    "elaspic_fixed_predictions_data.rename(columns={\"Elaspic_ddG_Fixed_Prediction\": \"ELASPIC ΔΔ (Fixed Threshold)\"}, inplace=True)\n",
    "elaspic_fixed_predictions_data"
   ],
   "metadata": {
    "collapsed": false,
    "pycharm": {
     "name": "#%%\n"
    }
   }
  },
  {
   "cell_type": "markdown",
   "source": [
    "#### 7. Provean Fixed Predictions"
   ],
   "metadata": {
    "collapsed": false,
    "pycharm": {
     "name": "#%% md\n"
    }
   }
  },
  {
   "cell_type": "code",
   "execution_count": 9,
   "outputs": [
    {
     "data": {
      "text/plain": "     Mutation_Effect_Label UniProt_ID Mutation Interactor_UniProt_ID  \\\n0                        1     Q9BPZ3    F118A                P11940   \n1                        1     P01116     Y40C                P50749   \n2                        1     Q96QK1    F534D                Q9UBQ0   \n3                        1     Q96QK1    F534D              Q9UBQ0-2   \n4                        1   O43521-3     G66A                Q07812   \n..                     ...        ...      ...                   ...   \n735                      1     P84243     Q94A              Q9UER7-3   \n736                      1     Q96QK1    L589D                Q9UBQ0   \n737                      1     Q96QK1    L589D              Q9UBQ0-2   \n738                      1     P23297     F72L                P25815   \n739                      1     Q15836     L46P                O43752   \n\n    Template_cath_id_pdb  Provean (Fixed Threshold)  \n0                   1jgn                          1  \n1                   3ddc                          1  \n2                   2r17                          1  \n3                   2r17                          1  \n4                   3fdl                          1  \n..                   ...                        ...  \n735                 4hga                          1  \n736                 2r17                          1  \n737                 2r17                          1  \n738                 2y5i                          1  \n739                 2nps                          1  \n\n[740 rows x 6 columns]",
      "text/html": "<div>\n<style scoped>\n    .dataframe tbody tr th:only-of-type {\n        vertical-align: middle;\n    }\n\n    .dataframe tbody tr th {\n        vertical-align: top;\n    }\n\n    .dataframe thead th {\n        text-align: right;\n    }\n</style>\n<table border=\"1\" class=\"dataframe\">\n  <thead>\n    <tr style=\"text-align: right;\">\n      <th></th>\n      <th>Mutation_Effect_Label</th>\n      <th>UniProt_ID</th>\n      <th>Mutation</th>\n      <th>Interactor_UniProt_ID</th>\n      <th>Template_cath_id_pdb</th>\n      <th>Provean (Fixed Threshold)</th>\n    </tr>\n  </thead>\n  <tbody>\n    <tr>\n      <th>0</th>\n      <td>1</td>\n      <td>Q9BPZ3</td>\n      <td>F118A</td>\n      <td>P11940</td>\n      <td>1jgn</td>\n      <td>1</td>\n    </tr>\n    <tr>\n      <th>1</th>\n      <td>1</td>\n      <td>P01116</td>\n      <td>Y40C</td>\n      <td>P50749</td>\n      <td>3ddc</td>\n      <td>1</td>\n    </tr>\n    <tr>\n      <th>2</th>\n      <td>1</td>\n      <td>Q96QK1</td>\n      <td>F534D</td>\n      <td>Q9UBQ0</td>\n      <td>2r17</td>\n      <td>1</td>\n    </tr>\n    <tr>\n      <th>3</th>\n      <td>1</td>\n      <td>Q96QK1</td>\n      <td>F534D</td>\n      <td>Q9UBQ0-2</td>\n      <td>2r17</td>\n      <td>1</td>\n    </tr>\n    <tr>\n      <th>4</th>\n      <td>1</td>\n      <td>O43521-3</td>\n      <td>G66A</td>\n      <td>Q07812</td>\n      <td>3fdl</td>\n      <td>1</td>\n    </tr>\n    <tr>\n      <th>...</th>\n      <td>...</td>\n      <td>...</td>\n      <td>...</td>\n      <td>...</td>\n      <td>...</td>\n      <td>...</td>\n    </tr>\n    <tr>\n      <th>735</th>\n      <td>1</td>\n      <td>P84243</td>\n      <td>Q94A</td>\n      <td>Q9UER7-3</td>\n      <td>4hga</td>\n      <td>1</td>\n    </tr>\n    <tr>\n      <th>736</th>\n      <td>1</td>\n      <td>Q96QK1</td>\n      <td>L589D</td>\n      <td>Q9UBQ0</td>\n      <td>2r17</td>\n      <td>1</td>\n    </tr>\n    <tr>\n      <th>737</th>\n      <td>1</td>\n      <td>Q96QK1</td>\n      <td>L589D</td>\n      <td>Q9UBQ0-2</td>\n      <td>2r17</td>\n      <td>1</td>\n    </tr>\n    <tr>\n      <th>738</th>\n      <td>1</td>\n      <td>P23297</td>\n      <td>F72L</td>\n      <td>P25815</td>\n      <td>2y5i</td>\n      <td>1</td>\n    </tr>\n    <tr>\n      <th>739</th>\n      <td>1</td>\n      <td>Q15836</td>\n      <td>L46P</td>\n      <td>O43752</td>\n      <td>2nps</td>\n      <td>1</td>\n    </tr>\n  </tbody>\n</table>\n<p>740 rows × 6 columns</p>\n</div>"
     },
     "execution_count": 9,
     "metadata": {},
     "output_type": "execute_result"
    }
   ],
   "source": [
    "provean_fixed_predictions_data = pd.read_csv(\n",
    "    PROVEAN_FIXED_PREDICTIONS_PATH, usecols=[\n",
    "        \"Mutation_Effect_Label\", \"UniProt_ID\", \"Mutation\", \"Interactor_UniProt_ID\", \"Template_cath_id_pdb\", \"Provean_Fixed_Prediction\"\n",
    "    ]\n",
    ")\n",
    "\n",
    "provean_fixed_predictions_data.rename(columns={\"Provean_Fixed_Prediction\": \"Provean (Fixed Threshold)\"}, inplace=True)\n",
    "provean_fixed_predictions_data"
   ],
   "metadata": {
    "collapsed": false,
    "pycharm": {
     "name": "#%%\n"
    }
   }
  },
  {
   "cell_type": "code",
   "execution_count": 9,
   "outputs": [],
   "source": [],
   "metadata": {
    "collapsed": false,
    "pycharm": {
     "name": "#%%\n"
    }
   }
  },
  {
   "cell_type": "code",
   "execution_count": 9,
   "outputs": [],
   "source": [],
   "metadata": {
    "collapsed": false,
    "pycharm": {
     "name": "#%%\n"
    }
   }
  },
  {
   "cell_type": "markdown",
   "source": [
    "## Benchmark data"
   ],
   "metadata": {
    "collapsed": false,
    "pycharm": {
     "name": "#%% md\n"
    }
   }
  },
  {
   "cell_type": "code",
   "execution_count": 12,
   "outputs": [
    {
     "data": {
      "text/plain": "     Mutation_Effect_Label UniProt_ID Mutation Interactor_UniProt_ID  \\\n0                        1     Q9BPZ3    F118A                P11940   \n1                        1     P01116     Y40C                P50749   \n2                        1     Q96QK1    F534D                Q9UBQ0   \n3                        1     Q96QK1    F534D              Q9UBQ0-2   \n4                        1   O43521-3     G66A                Q07812   \n..                     ...        ...      ...                   ...   \n735                      1     P84243     Q94A              Q9UER7-3   \n736                      1     Q96QK1    L589D                Q9UBQ0   \n737                      1     Q96QK1    L589D              Q9UBQ0-2   \n738                      1     P23297     F72L                P25815   \n739                      1     Q15836     L46P                O43752   \n\n    Template_cath_id  PREDATOR_DEFAULT  PREDATOR_FS  PREDATOR_FS_HP  \\\n0              1jgnB                 0            0               1   \n1              3ddcA                 1            1               1   \n2              2r17C                 1            1               1   \n3              2r17C                 1            1               1   \n4              3fdlB                 0            0               0   \n..               ...               ...          ...             ...   \n735            4hgaB                 1            1               1   \n736            2r17C                 1            1               1   \n737            2r17C                 1            1               1   \n738            2y5iA                 1            1               1   \n739            2npsA                 1            1               1   \n\n         SAAMBE_3D  PANDA       mCSM_PP2      MutaBind2 MutaBind2_INTERFACE  \\\n0    not_available      1  not_available  not_available                 NaN   \n1              0.0      1            1.0            1.0                 Yes   \n2              0.0      1            1.0            1.0                 Yes   \n3              0.0      1            1.0            1.0                 Yes   \n4    not_available      1  not_available  not_available                 NaN   \n..             ...    ...            ...            ...                 ...   \n735  not_available      1  not_available  not_available                 NaN   \n736            0.0      1            1.0            0.0                 Yes   \n737            0.0      1            1.0            0.0                 Yes   \n738            0.0      1            1.0            1.0                 Yes   \n739  not_available      1  not_available  not_available                 NaN   \n\n     ELASPIC ΔΔ (Fixed Threshold)  Provean (Fixed Threshold)  \n0                               1                          1  \n1                               1                          1  \n2                               1                          1  \n3                               1                          1  \n4                               1                          1  \n..                            ...                        ...  \n735                             0                          1  \n736                             1                          1  \n737                             1                          1  \n738                             1                          1  \n739                             1                          1  \n\n[740 rows x 15 columns]",
      "text/html": "<div>\n<style scoped>\n    .dataframe tbody tr th:only-of-type {\n        vertical-align: middle;\n    }\n\n    .dataframe tbody tr th {\n        vertical-align: top;\n    }\n\n    .dataframe thead th {\n        text-align: right;\n    }\n</style>\n<table border=\"1\" class=\"dataframe\">\n  <thead>\n    <tr style=\"text-align: right;\">\n      <th></th>\n      <th>Mutation_Effect_Label</th>\n      <th>UniProt_ID</th>\n      <th>Mutation</th>\n      <th>Interactor_UniProt_ID</th>\n      <th>Template_cath_id</th>\n      <th>PREDATOR_DEFAULT</th>\n      <th>PREDATOR_FS</th>\n      <th>PREDATOR_FS_HP</th>\n      <th>SAAMBE_3D</th>\n      <th>PANDA</th>\n      <th>mCSM_PP2</th>\n      <th>MutaBind2</th>\n      <th>MutaBind2_INTERFACE</th>\n      <th>ELASPIC ΔΔ (Fixed Threshold)</th>\n      <th>Provean (Fixed Threshold)</th>\n    </tr>\n  </thead>\n  <tbody>\n    <tr>\n      <th>0</th>\n      <td>1</td>\n      <td>Q9BPZ3</td>\n      <td>F118A</td>\n      <td>P11940</td>\n      <td>1jgnB</td>\n      <td>0</td>\n      <td>0</td>\n      <td>1</td>\n      <td>not_available</td>\n      <td>1</td>\n      <td>not_available</td>\n      <td>not_available</td>\n      <td>NaN</td>\n      <td>1</td>\n      <td>1</td>\n    </tr>\n    <tr>\n      <th>1</th>\n      <td>1</td>\n      <td>P01116</td>\n      <td>Y40C</td>\n      <td>P50749</td>\n      <td>3ddcA</td>\n      <td>1</td>\n      <td>1</td>\n      <td>1</td>\n      <td>0.0</td>\n      <td>1</td>\n      <td>1.0</td>\n      <td>1.0</td>\n      <td>Yes</td>\n      <td>1</td>\n      <td>1</td>\n    </tr>\n    <tr>\n      <th>2</th>\n      <td>1</td>\n      <td>Q96QK1</td>\n      <td>F534D</td>\n      <td>Q9UBQ0</td>\n      <td>2r17C</td>\n      <td>1</td>\n      <td>1</td>\n      <td>1</td>\n      <td>0.0</td>\n      <td>1</td>\n      <td>1.0</td>\n      <td>1.0</td>\n      <td>Yes</td>\n      <td>1</td>\n      <td>1</td>\n    </tr>\n    <tr>\n      <th>3</th>\n      <td>1</td>\n      <td>Q96QK1</td>\n      <td>F534D</td>\n      <td>Q9UBQ0-2</td>\n      <td>2r17C</td>\n      <td>1</td>\n      <td>1</td>\n      <td>1</td>\n      <td>0.0</td>\n      <td>1</td>\n      <td>1.0</td>\n      <td>1.0</td>\n      <td>Yes</td>\n      <td>1</td>\n      <td>1</td>\n    </tr>\n    <tr>\n      <th>4</th>\n      <td>1</td>\n      <td>O43521-3</td>\n      <td>G66A</td>\n      <td>Q07812</td>\n      <td>3fdlB</td>\n      <td>0</td>\n      <td>0</td>\n      <td>0</td>\n      <td>not_available</td>\n      <td>1</td>\n      <td>not_available</td>\n      <td>not_available</td>\n      <td>NaN</td>\n      <td>1</td>\n      <td>1</td>\n    </tr>\n    <tr>\n      <th>...</th>\n      <td>...</td>\n      <td>...</td>\n      <td>...</td>\n      <td>...</td>\n      <td>...</td>\n      <td>...</td>\n      <td>...</td>\n      <td>...</td>\n      <td>...</td>\n      <td>...</td>\n      <td>...</td>\n      <td>...</td>\n      <td>...</td>\n      <td>...</td>\n      <td>...</td>\n    </tr>\n    <tr>\n      <th>735</th>\n      <td>1</td>\n      <td>P84243</td>\n      <td>Q94A</td>\n      <td>Q9UER7-3</td>\n      <td>4hgaB</td>\n      <td>1</td>\n      <td>1</td>\n      <td>1</td>\n      <td>not_available</td>\n      <td>1</td>\n      <td>not_available</td>\n      <td>not_available</td>\n      <td>NaN</td>\n      <td>0</td>\n      <td>1</td>\n    </tr>\n    <tr>\n      <th>736</th>\n      <td>1</td>\n      <td>Q96QK1</td>\n      <td>L589D</td>\n      <td>Q9UBQ0</td>\n      <td>2r17C</td>\n      <td>1</td>\n      <td>1</td>\n      <td>1</td>\n      <td>0.0</td>\n      <td>1</td>\n      <td>1.0</td>\n      <td>0.0</td>\n      <td>Yes</td>\n      <td>1</td>\n      <td>1</td>\n    </tr>\n    <tr>\n      <th>737</th>\n      <td>1</td>\n      <td>Q96QK1</td>\n      <td>L589D</td>\n      <td>Q9UBQ0-2</td>\n      <td>2r17C</td>\n      <td>1</td>\n      <td>1</td>\n      <td>1</td>\n      <td>0.0</td>\n      <td>1</td>\n      <td>1.0</td>\n      <td>0.0</td>\n      <td>Yes</td>\n      <td>1</td>\n      <td>1</td>\n    </tr>\n    <tr>\n      <th>738</th>\n      <td>1</td>\n      <td>P23297</td>\n      <td>F72L</td>\n      <td>P25815</td>\n      <td>2y5iA</td>\n      <td>1</td>\n      <td>1</td>\n      <td>1</td>\n      <td>0.0</td>\n      <td>1</td>\n      <td>1.0</td>\n      <td>1.0</td>\n      <td>Yes</td>\n      <td>1</td>\n      <td>1</td>\n    </tr>\n    <tr>\n      <th>739</th>\n      <td>1</td>\n      <td>Q15836</td>\n      <td>L46P</td>\n      <td>O43752</td>\n      <td>2npsA</td>\n      <td>1</td>\n      <td>1</td>\n      <td>1</td>\n      <td>not_available</td>\n      <td>1</td>\n      <td>not_available</td>\n      <td>not_available</td>\n      <td>NaN</td>\n      <td>1</td>\n      <td>1</td>\n    </tr>\n  </tbody>\n</table>\n<p>740 rows × 15 columns</p>\n</div>"
     },
     "execution_count": 12,
     "metadata": {},
     "output_type": "execute_result"
    }
   ],
   "source": [
    "# Add PREDATOR\n",
    "benchmark_data = predator_predictions_data.copy()\n",
    "\n",
    "# Add SAMBE_3D\n",
    "benchmark_data[\"SAAMBE_3D\"] = saambe_3d_predictions_data[\"SAAMBE_3D\"]\n",
    "\n",
    "# Add PANDA\n",
    "benchmark_data[\"PANDA\"] = panda_predictions_data[\"PANDA\"]\n",
    "\n",
    "# Add mCSM_PPI2\n",
    "benchmark_data[\"mCSM_PP2\"] = mcsm_ppi2_predictions_data[\"mCSM_PP2\"]\n",
    "\n",
    "# Add MutaBind2\n",
    "benchmark_data[\"MutaBind2\"] = mutabind2_predictions_data[\"MUTABIND2\"]\n",
    "benchmark_data[\"MutaBind2_INTERFACE\"] = mutabind2_predictions_data[\"INTERFACE\"]\n",
    "\n",
    "# Add ELASPIC\n",
    "benchmark_data[\"ELASPIC ΔΔ (Fixed Threshold)\"] = elaspic_fixed_predictions_data[\"ELASPIC ΔΔ (Fixed Threshold)\"]\n",
    "\n",
    "# Add PROVEAN\n",
    "benchmark_data[\"Provean (Fixed Threshold)\"] = provean_fixed_predictions_data[\"Provean (Fixed Threshold)\"]\n",
    "\n",
    "benchmark_data"
   ],
   "metadata": {
    "collapsed": false,
    "pycharm": {
     "name": "#%%\n"
    }
   }
  },
  {
   "cell_type": "code",
   "execution_count": 13,
   "outputs": [
    {
     "data": {
      "text/plain": "     Mutation_Effect_Label UniProt_ID Mutation Interactor_UniProt_ID  \\\n0                        1     Q9BPZ3    F118A                P11940   \n1                        1     P01116     Y40C                P50749   \n2                        1     Q96QK1    F534D                Q9UBQ0   \n3                        1     Q96QK1    F534D              Q9UBQ0-2   \n4                        1   O43521-3     G66A                Q07812   \n..                     ...        ...      ...                   ...   \n735                      1     P84243     Q94A              Q9UER7-3   \n736                      1     Q96QK1    L589D                Q9UBQ0   \n737                      1     Q96QK1    L589D              Q9UBQ0-2   \n738                      1     P23297     F72L                P25815   \n739                      1     Q15836     L46P                O43752   \n\n    Template_cath_id  PREDATOR_DEFAULT  PREDATOR_FS  PREDATOR_FS_HP  \\\n0              1jgnB                 0            0               1   \n1              3ddcA                 1            1               1   \n2              2r17C                 1            1               1   \n3              2r17C                 1            1               1   \n4              3fdlB                 0            0               0   \n..               ...               ...          ...             ...   \n735            4hgaB                 1            1               1   \n736            2r17C                 1            1               1   \n737            2r17C                 1            1               1   \n738            2y5iA                 1            1               1   \n739            2npsA                 1            1               1   \n\n         SAAMBE_3D  PANDA       mCSM_PP2      MutaBind2 MutaBind2_INTERFACE  \\\n0    not_available      1  not_available  not_available                 NaN   \n1              0.0      1            1.0            1.0                 Yes   \n2              0.0      1            1.0            1.0                 Yes   \n3              0.0      1            1.0            1.0                 Yes   \n4    not_available      1  not_available  not_available                 NaN   \n..             ...    ...            ...            ...                 ...   \n735  not_available      1  not_available  not_available                 NaN   \n736            0.0      1            1.0            0.0                 Yes   \n737            0.0      1            1.0            0.0                 Yes   \n738            0.0      1            1.0            1.0                 Yes   \n739  not_available      1  not_available  not_available                 NaN   \n\n     ELASPIC ΔΔ (Fixed Threshold)  Provean (Fixed Threshold)  \n0                               1                          1  \n1                               1                          1  \n2                               1                          1  \n3                               1                          1  \n4                               1                          1  \n..                            ...                        ...  \n735                             0                          1  \n736                             1                          1  \n737                             1                          1  \n738                             1                          1  \n739                             1                          1  \n\n[722 rows x 15 columns]",
      "text/html": "<div>\n<style scoped>\n    .dataframe tbody tr th:only-of-type {\n        vertical-align: middle;\n    }\n\n    .dataframe tbody tr th {\n        vertical-align: top;\n    }\n\n    .dataframe thead th {\n        text-align: right;\n    }\n</style>\n<table border=\"1\" class=\"dataframe\">\n  <thead>\n    <tr style=\"text-align: right;\">\n      <th></th>\n      <th>Mutation_Effect_Label</th>\n      <th>UniProt_ID</th>\n      <th>Mutation</th>\n      <th>Interactor_UniProt_ID</th>\n      <th>Template_cath_id</th>\n      <th>PREDATOR_DEFAULT</th>\n      <th>PREDATOR_FS</th>\n      <th>PREDATOR_FS_HP</th>\n      <th>SAAMBE_3D</th>\n      <th>PANDA</th>\n      <th>mCSM_PP2</th>\n      <th>MutaBind2</th>\n      <th>MutaBind2_INTERFACE</th>\n      <th>ELASPIC ΔΔ (Fixed Threshold)</th>\n      <th>Provean (Fixed Threshold)</th>\n    </tr>\n  </thead>\n  <tbody>\n    <tr>\n      <th>0</th>\n      <td>1</td>\n      <td>Q9BPZ3</td>\n      <td>F118A</td>\n      <td>P11940</td>\n      <td>1jgnB</td>\n      <td>0</td>\n      <td>0</td>\n      <td>1</td>\n      <td>not_available</td>\n      <td>1</td>\n      <td>not_available</td>\n      <td>not_available</td>\n      <td>NaN</td>\n      <td>1</td>\n      <td>1</td>\n    </tr>\n    <tr>\n      <th>1</th>\n      <td>1</td>\n      <td>P01116</td>\n      <td>Y40C</td>\n      <td>P50749</td>\n      <td>3ddcA</td>\n      <td>1</td>\n      <td>1</td>\n      <td>1</td>\n      <td>0.0</td>\n      <td>1</td>\n      <td>1.0</td>\n      <td>1.0</td>\n      <td>Yes</td>\n      <td>1</td>\n      <td>1</td>\n    </tr>\n    <tr>\n      <th>2</th>\n      <td>1</td>\n      <td>Q96QK1</td>\n      <td>F534D</td>\n      <td>Q9UBQ0</td>\n      <td>2r17C</td>\n      <td>1</td>\n      <td>1</td>\n      <td>1</td>\n      <td>0.0</td>\n      <td>1</td>\n      <td>1.0</td>\n      <td>1.0</td>\n      <td>Yes</td>\n      <td>1</td>\n      <td>1</td>\n    </tr>\n    <tr>\n      <th>3</th>\n      <td>1</td>\n      <td>Q96QK1</td>\n      <td>F534D</td>\n      <td>Q9UBQ0-2</td>\n      <td>2r17C</td>\n      <td>1</td>\n      <td>1</td>\n      <td>1</td>\n      <td>0.0</td>\n      <td>1</td>\n      <td>1.0</td>\n      <td>1.0</td>\n      <td>Yes</td>\n      <td>1</td>\n      <td>1</td>\n    </tr>\n    <tr>\n      <th>4</th>\n      <td>1</td>\n      <td>O43521-3</td>\n      <td>G66A</td>\n      <td>Q07812</td>\n      <td>3fdlB</td>\n      <td>0</td>\n      <td>0</td>\n      <td>0</td>\n      <td>not_available</td>\n      <td>1</td>\n      <td>not_available</td>\n      <td>not_available</td>\n      <td>NaN</td>\n      <td>1</td>\n      <td>1</td>\n    </tr>\n    <tr>\n      <th>...</th>\n      <td>...</td>\n      <td>...</td>\n      <td>...</td>\n      <td>...</td>\n      <td>...</td>\n      <td>...</td>\n      <td>...</td>\n      <td>...</td>\n      <td>...</td>\n      <td>...</td>\n      <td>...</td>\n      <td>...</td>\n      <td>...</td>\n      <td>...</td>\n      <td>...</td>\n    </tr>\n    <tr>\n      <th>735</th>\n      <td>1</td>\n      <td>P84243</td>\n      <td>Q94A</td>\n      <td>Q9UER7-3</td>\n      <td>4hgaB</td>\n      <td>1</td>\n      <td>1</td>\n      <td>1</td>\n      <td>not_available</td>\n      <td>1</td>\n      <td>not_available</td>\n      <td>not_available</td>\n      <td>NaN</td>\n      <td>0</td>\n      <td>1</td>\n    </tr>\n    <tr>\n      <th>736</th>\n      <td>1</td>\n      <td>Q96QK1</td>\n      <td>L589D</td>\n      <td>Q9UBQ0</td>\n      <td>2r17C</td>\n      <td>1</td>\n      <td>1</td>\n      <td>1</td>\n      <td>0.0</td>\n      <td>1</td>\n      <td>1.0</td>\n      <td>0.0</td>\n      <td>Yes</td>\n      <td>1</td>\n      <td>1</td>\n    </tr>\n    <tr>\n      <th>737</th>\n      <td>1</td>\n      <td>Q96QK1</td>\n      <td>L589D</td>\n      <td>Q9UBQ0-2</td>\n      <td>2r17C</td>\n      <td>1</td>\n      <td>1</td>\n      <td>1</td>\n      <td>0.0</td>\n      <td>1</td>\n      <td>1.0</td>\n      <td>0.0</td>\n      <td>Yes</td>\n      <td>1</td>\n      <td>1</td>\n    </tr>\n    <tr>\n      <th>738</th>\n      <td>1</td>\n      <td>P23297</td>\n      <td>F72L</td>\n      <td>P25815</td>\n      <td>2y5iA</td>\n      <td>1</td>\n      <td>1</td>\n      <td>1</td>\n      <td>0.0</td>\n      <td>1</td>\n      <td>1.0</td>\n      <td>1.0</td>\n      <td>Yes</td>\n      <td>1</td>\n      <td>1</td>\n    </tr>\n    <tr>\n      <th>739</th>\n      <td>1</td>\n      <td>Q15836</td>\n      <td>L46P</td>\n      <td>O43752</td>\n      <td>2npsA</td>\n      <td>1</td>\n      <td>1</td>\n      <td>1</td>\n      <td>not_available</td>\n      <td>1</td>\n      <td>not_available</td>\n      <td>not_available</td>\n      <td>NaN</td>\n      <td>1</td>\n      <td>1</td>\n    </tr>\n  </tbody>\n</table>\n<p>722 rows × 15 columns</p>\n</div>"
     },
     "execution_count": 13,
     "metadata": {},
     "output_type": "execute_result"
    }
   ],
   "source": [
    "# a hack for mutabind2\n",
    "benchmark_data = benchmark_data[benchmark_data[\"MutaBind2_INTERFACE\"] != \"No\"]\n",
    "benchmark_data"
   ],
   "metadata": {
    "collapsed": false,
    "pycharm": {
     "name": "#%%\n"
    }
   }
  },
  {
   "cell_type": "markdown",
   "source": [
    "#### Drop NAN entries."
   ],
   "metadata": {
    "collapsed": false,
    "pycharm": {
     "name": "#%% md\n"
    }
   }
  },
  {
   "cell_type": "code",
   "execution_count": 14,
   "outputs": [
    {
     "data": {
      "text/plain": "     Mutation_Effect_Label UniProt_ID Mutation Interactor_UniProt_ID  \\\n0                        1     P01116     Y40C                P50749   \n1                        1     Q96QK1    F534D                Q9UBQ0   \n2                        1     Q96QK1    F534D              Q9UBQ0-2   \n3                        1   O43521-3     G66A              Q07812-4   \n4                        1   O43521-3     G66A              Q07812-5   \n..                     ...        ...      ...                   ...   \n342                      1     P51587   V1532F                Q06609   \n343                      1     P51587   V1532F              Q06609-4   \n344                      1     Q96QK1    L589D                Q9UBQ0   \n345                      1     Q96QK1    L589D              Q9UBQ0-2   \n346                      1     P23297     F72L                P25815   \n\n    Template_cath_id  PREDATOR_DEFAULT  PREDATOR_FS  PREDATOR_FS_HP  \\\n0              3ddcA                 1            1               1   \n1              2r17C                 1            1               1   \n2              2r17C                 1            1               1   \n3              2nl9B                 1            1               1   \n4              2nl9B                 1            1               1   \n..               ...               ...          ...             ...   \n342            1n0wB                 1            1               1   \n343            1n0wB                 1            1               1   \n344            2r17C                 1            1               1   \n345            2r17C                 1            1               1   \n346            2y5iA                 1            1               1   \n\n     SAAMBE_3D  PANDA  mCSM_PP2  MutaBind2 MutaBind2_INTERFACE  \\\n0            0      1         1          1                 Yes   \n1            0      1         1          1                 Yes   \n2            0      1         1          1                 Yes   \n3            0      1         1          1                 Yes   \n4            0      1         1          1                 Yes   \n..         ...    ...       ...        ...                 ...   \n342          0      0         1          0                 Yes   \n343          0      0         1          0                 Yes   \n344          0      1         1          0                 Yes   \n345          0      1         1          0                 Yes   \n346          0      1         1          1                 Yes   \n\n     ELASPIC ΔΔ (Fixed Threshold)  Provean (Fixed Threshold)  \n0                               1                          1  \n1                               1                          1  \n2                               1                          1  \n3                               1                          1  \n4                               1                          1  \n..                            ...                        ...  \n342                             1                          1  \n343                             1                          1  \n344                             1                          1  \n345                             1                          1  \n346                             1                          1  \n\n[347 rows x 15 columns]",
      "text/html": "<div>\n<style scoped>\n    .dataframe tbody tr th:only-of-type {\n        vertical-align: middle;\n    }\n\n    .dataframe tbody tr th {\n        vertical-align: top;\n    }\n\n    .dataframe thead th {\n        text-align: right;\n    }\n</style>\n<table border=\"1\" class=\"dataframe\">\n  <thead>\n    <tr style=\"text-align: right;\">\n      <th></th>\n      <th>Mutation_Effect_Label</th>\n      <th>UniProt_ID</th>\n      <th>Mutation</th>\n      <th>Interactor_UniProt_ID</th>\n      <th>Template_cath_id</th>\n      <th>PREDATOR_DEFAULT</th>\n      <th>PREDATOR_FS</th>\n      <th>PREDATOR_FS_HP</th>\n      <th>SAAMBE_3D</th>\n      <th>PANDA</th>\n      <th>mCSM_PP2</th>\n      <th>MutaBind2</th>\n      <th>MutaBind2_INTERFACE</th>\n      <th>ELASPIC ΔΔ (Fixed Threshold)</th>\n      <th>Provean (Fixed Threshold)</th>\n    </tr>\n  </thead>\n  <tbody>\n    <tr>\n      <th>0</th>\n      <td>1</td>\n      <td>P01116</td>\n      <td>Y40C</td>\n      <td>P50749</td>\n      <td>3ddcA</td>\n      <td>1</td>\n      <td>1</td>\n      <td>1</td>\n      <td>0</td>\n      <td>1</td>\n      <td>1</td>\n      <td>1</td>\n      <td>Yes</td>\n      <td>1</td>\n      <td>1</td>\n    </tr>\n    <tr>\n      <th>1</th>\n      <td>1</td>\n      <td>Q96QK1</td>\n      <td>F534D</td>\n      <td>Q9UBQ0</td>\n      <td>2r17C</td>\n      <td>1</td>\n      <td>1</td>\n      <td>1</td>\n      <td>0</td>\n      <td>1</td>\n      <td>1</td>\n      <td>1</td>\n      <td>Yes</td>\n      <td>1</td>\n      <td>1</td>\n    </tr>\n    <tr>\n      <th>2</th>\n      <td>1</td>\n      <td>Q96QK1</td>\n      <td>F534D</td>\n      <td>Q9UBQ0-2</td>\n      <td>2r17C</td>\n      <td>1</td>\n      <td>1</td>\n      <td>1</td>\n      <td>0</td>\n      <td>1</td>\n      <td>1</td>\n      <td>1</td>\n      <td>Yes</td>\n      <td>1</td>\n      <td>1</td>\n    </tr>\n    <tr>\n      <th>3</th>\n      <td>1</td>\n      <td>O43521-3</td>\n      <td>G66A</td>\n      <td>Q07812-4</td>\n      <td>2nl9B</td>\n      <td>1</td>\n      <td>1</td>\n      <td>1</td>\n      <td>0</td>\n      <td>1</td>\n      <td>1</td>\n      <td>1</td>\n      <td>Yes</td>\n      <td>1</td>\n      <td>1</td>\n    </tr>\n    <tr>\n      <th>4</th>\n      <td>1</td>\n      <td>O43521-3</td>\n      <td>G66A</td>\n      <td>Q07812-5</td>\n      <td>2nl9B</td>\n      <td>1</td>\n      <td>1</td>\n      <td>1</td>\n      <td>0</td>\n      <td>1</td>\n      <td>1</td>\n      <td>1</td>\n      <td>Yes</td>\n      <td>1</td>\n      <td>1</td>\n    </tr>\n    <tr>\n      <th>...</th>\n      <td>...</td>\n      <td>...</td>\n      <td>...</td>\n      <td>...</td>\n      <td>...</td>\n      <td>...</td>\n      <td>...</td>\n      <td>...</td>\n      <td>...</td>\n      <td>...</td>\n      <td>...</td>\n      <td>...</td>\n      <td>...</td>\n      <td>...</td>\n      <td>...</td>\n    </tr>\n    <tr>\n      <th>342</th>\n      <td>1</td>\n      <td>P51587</td>\n      <td>V1532F</td>\n      <td>Q06609</td>\n      <td>1n0wB</td>\n      <td>1</td>\n      <td>1</td>\n      <td>1</td>\n      <td>0</td>\n      <td>0</td>\n      <td>1</td>\n      <td>0</td>\n      <td>Yes</td>\n      <td>1</td>\n      <td>1</td>\n    </tr>\n    <tr>\n      <th>343</th>\n      <td>1</td>\n      <td>P51587</td>\n      <td>V1532F</td>\n      <td>Q06609-4</td>\n      <td>1n0wB</td>\n      <td>1</td>\n      <td>1</td>\n      <td>1</td>\n      <td>0</td>\n      <td>0</td>\n      <td>1</td>\n      <td>0</td>\n      <td>Yes</td>\n      <td>1</td>\n      <td>1</td>\n    </tr>\n    <tr>\n      <th>344</th>\n      <td>1</td>\n      <td>Q96QK1</td>\n      <td>L589D</td>\n      <td>Q9UBQ0</td>\n      <td>2r17C</td>\n      <td>1</td>\n      <td>1</td>\n      <td>1</td>\n      <td>0</td>\n      <td>1</td>\n      <td>1</td>\n      <td>0</td>\n      <td>Yes</td>\n      <td>1</td>\n      <td>1</td>\n    </tr>\n    <tr>\n      <th>345</th>\n      <td>1</td>\n      <td>Q96QK1</td>\n      <td>L589D</td>\n      <td>Q9UBQ0-2</td>\n      <td>2r17C</td>\n      <td>1</td>\n      <td>1</td>\n      <td>1</td>\n      <td>0</td>\n      <td>1</td>\n      <td>1</td>\n      <td>0</td>\n      <td>Yes</td>\n      <td>1</td>\n      <td>1</td>\n    </tr>\n    <tr>\n      <th>346</th>\n      <td>1</td>\n      <td>P23297</td>\n      <td>F72L</td>\n      <td>P25815</td>\n      <td>2y5iA</td>\n      <td>1</td>\n      <td>1</td>\n      <td>1</td>\n      <td>0</td>\n      <td>1</td>\n      <td>1</td>\n      <td>1</td>\n      <td>Yes</td>\n      <td>1</td>\n      <td>1</td>\n    </tr>\n  </tbody>\n</table>\n<p>347 rows × 15 columns</p>\n</div>"
     },
     "execution_count": 14,
     "metadata": {},
     "output_type": "execute_result"
    }
   ],
   "source": [
    "benchmark_data_drop_nan = benchmark_data[benchmark_data[\"SAAMBE_3D\"] != \"not_available\"].copy()\n",
    "benchmark_data_drop_nan[\"SAAMBE_3D\"] = benchmark_data_drop_nan[\"SAAMBE_3D\"].astype(int)\n",
    "benchmark_data_drop_nan[\"mCSM_PP2\"] = benchmark_data_drop_nan[\"mCSM_PP2\"].astype(int)\n",
    "benchmark_data_drop_nan[\"MutaBind2\"] = benchmark_data_drop_nan[\"MutaBind2\"].astype(int)\n",
    "benchmark_data_drop_nan = benchmark_data_drop_nan.reset_index(drop=True)\n",
    "benchmark_data_drop_nan"
   ],
   "metadata": {
    "collapsed": false,
    "pycharm": {
     "name": "#%%\n"
    }
   }
  },
  {
   "cell_type": "code",
   "execution_count": 17,
   "outputs": [
    {
     "data": {
      "text/plain": "[('P01116', 'Y40C', 'P50749', '3ddc'),\n ('Q96QK1', 'F534D', 'Q9UBQ0', '2r17'),\n ('Q96QK1', 'F534D', 'Q9UBQ0-2', '2r17')]"
     },
     "execution_count": 17,
     "metadata": {},
     "output_type": "execute_result"
    }
   ],
   "source": [
    "# create list of triplets\n",
    "triplets_with_pdb = [\n",
    "    (protein, mutation, interactor, pdb)\n",
    "    for protein, mutation, interactor, pdb\n",
    "    in zip(\n",
    "        benchmark_data_drop_nan[\"UniProt_ID\"],\n",
    "        benchmark_data_drop_nan[\"Mutation\"],\n",
    "        benchmark_data_drop_nan[\"Interactor_UniProt_ID\"],\n",
    "        benchmark_data_drop_nan[\"Template_cath_id\"].apply(lambda x: x[:4])\n",
    "    )\n",
    "]\n",
    "triplets_with_pdb[:3]"
   ],
   "metadata": {
    "collapsed": false,
    "pycharm": {
     "name": "#%%\n"
    }
   }
  },
  {
   "cell_type": "code",
   "execution_count": 18,
   "outputs": [
    {
     "name": "stdout",
     "output_type": "stream",
     "text": [
      "Number of triplets with pdb: 347\n",
      "Number of unique triplets with pdb: 339\n"
     ]
    }
   ],
   "source": [
    "print(f\"Number of triplets with pdb: {len(triplets_with_pdb)}\")\n",
    "print(f\"Number of unique triplets with pdb: {len(set(triplets_with_pdb))}\")"
   ],
   "metadata": {
    "collapsed": false,
    "pycharm": {
     "name": "#%%\n"
    }
   }
  },
  {
   "cell_type": "code",
   "execution_count": 19,
   "outputs": [
    {
     "data": {
      "text/plain": "4"
     },
     "execution_count": 19,
     "metadata": {},
     "output_type": "execute_result"
    }
   ],
   "source": [
    "benchmark_data_drop_nan.duplicated().sum()"
   ],
   "metadata": {
    "collapsed": false,
    "pycharm": {
     "name": "#%%\n"
    }
   }
  },
  {
   "cell_type": "code",
   "execution_count": 20,
   "outputs": [],
   "source": [
    "benchmark_data_final = benchmark_data_drop_nan.drop_duplicates()"
   ],
   "metadata": {
    "collapsed": false,
    "pycharm": {
     "name": "#%%\n"
    }
   }
  },
  {
   "cell_type": "code",
   "execution_count": 21,
   "outputs": [
    {
     "data": {
      "text/plain": "(343, 15)"
     },
     "execution_count": 21,
     "metadata": {},
     "output_type": "execute_result"
    }
   ],
   "source": [
    "benchmark_data_final.shape"
   ],
   "metadata": {
    "collapsed": false,
    "pycharm": {
     "name": "#%%\n"
    }
   }
  },
  {
   "cell_type": "markdown",
   "source": [
    "# Evaluation Metric"
   ],
   "metadata": {
    "collapsed": false,
    "pycharm": {
     "name": "#%% md\n"
    }
   }
  },
  {
   "cell_type": "code",
   "execution_count": 22,
   "outputs": [],
   "source": [
    "from sklearn.metrics import (\n",
    "    accuracy_score,\n",
    "    balanced_accuracy_score,\n",
    "    f1_score,\n",
    "    matthews_corrcoef,\n",
    "    precision_score,\n",
    "    recall_score,\n",
    ")"
   ],
   "metadata": {
    "collapsed": false,
    "pycharm": {
     "name": "#%%\n"
    }
   }
  },
  {
   "cell_type": "code",
   "execution_count": 23,
   "outputs": [],
   "source": [
    "def get_scoring_metrics(y_true, y_pred):\n",
    "    metrics_data = pd.DataFrame(\n",
    "        [\n",
    "            accuracy_score(y_true, y_pred),\n",
    "            balanced_accuracy_score(y_true, y_pred),\n",
    "            f1_score(y_true, y_pred),\n",
    "            matthews_corrcoef(y_true, y_pred),\n",
    "            precision_score(y_true, y_pred),\n",
    "            recall_score(y_true, y_pred),\n",
    "        ],\n",
    "        columns=[\"SCORE\"],\n",
    "        index=[\"ACCURACY\", \"BALANCED_ACCURACY\", \"F1\", \"MATTHEWS_COR\", \"PRECISION\", \"RECALL\"])\n",
    "\n",
    "    return metrics_data"
   ],
   "metadata": {
    "collapsed": false,
    "pycharm": {
     "name": "#%%\n"
    }
   }
  },
  {
   "cell_type": "code",
   "execution_count": 24,
   "outputs": [
    {
     "name": "stdout",
     "output_type": "stream",
     "text": [
      "Prediction results in 343 entries.\n"
     ]
    },
    {
     "data": {
      "text/plain": "                   Predator_default  Predator_Shap_10  Predator_Shap_10_Tuned  \\\nACCURACY                   0.868805          0.857143                0.822157   \nBALANCED_ACCURACY          0.741755          0.724353                0.642161   \nF1                         0.920354          0.913274                0.894281   \nMATTHEWS_COR               0.570450          0.529388                0.379695   \nPRECISION                  0.881356          0.874576                0.840391   \nRECALL                     0.962963          0.955556                0.955556   \n\n                   SAAMBE_3D     PANDA  mCSM_PP2  MutaBind2  \\\nACCURACY            0.259475  0.690962  0.810496   0.685131   \nBALANCED_ACCURACY   0.489650  0.468874  0.629756   0.750025   \nF1                  0.158940  0.813380  0.886957   0.761062   \nMATTHEWS_COR       -0.029131 -0.075472  0.338424   0.410118   \nPRECISION           0.750000  0.775168  0.836066   0.945055   \nRECALL              0.088889  0.855556  0.944444   0.637037   \n\n                   ELASPIC ΔΔ (Fixed Threshold)  Provean (Fixed Threshold)  \nACCURACY                               0.830904                   0.842566  \nBALANCED_ACCURACY                      0.627727                   0.660122  \nF1                                     0.901361                   0.907216  \nMATTHEWS_COR                           0.402228                   0.457157  \nPRECISION                              0.833333                   0.846154  \nRECALL                                 0.981481                   0.977778  ",
      "text/html": "<div>\n<style scoped>\n    .dataframe tbody tr th:only-of-type {\n        vertical-align: middle;\n    }\n\n    .dataframe tbody tr th {\n        vertical-align: top;\n    }\n\n    .dataframe thead th {\n        text-align: right;\n    }\n</style>\n<table border=\"1\" class=\"dataframe\">\n  <thead>\n    <tr style=\"text-align: right;\">\n      <th></th>\n      <th>Predator_default</th>\n      <th>Predator_Shap_10</th>\n      <th>Predator_Shap_10_Tuned</th>\n      <th>SAAMBE_3D</th>\n      <th>PANDA</th>\n      <th>mCSM_PP2</th>\n      <th>MutaBind2</th>\n      <th>ELASPIC ΔΔ (Fixed Threshold)</th>\n      <th>Provean (Fixed Threshold)</th>\n    </tr>\n  </thead>\n  <tbody>\n    <tr>\n      <th>ACCURACY</th>\n      <td>0.868805</td>\n      <td>0.857143</td>\n      <td>0.822157</td>\n      <td>0.259475</td>\n      <td>0.690962</td>\n      <td>0.810496</td>\n      <td>0.685131</td>\n      <td>0.830904</td>\n      <td>0.842566</td>\n    </tr>\n    <tr>\n      <th>BALANCED_ACCURACY</th>\n      <td>0.741755</td>\n      <td>0.724353</td>\n      <td>0.642161</td>\n      <td>0.489650</td>\n      <td>0.468874</td>\n      <td>0.629756</td>\n      <td>0.750025</td>\n      <td>0.627727</td>\n      <td>0.660122</td>\n    </tr>\n    <tr>\n      <th>F1</th>\n      <td>0.920354</td>\n      <td>0.913274</td>\n      <td>0.894281</td>\n      <td>0.158940</td>\n      <td>0.813380</td>\n      <td>0.886957</td>\n      <td>0.761062</td>\n      <td>0.901361</td>\n      <td>0.907216</td>\n    </tr>\n    <tr>\n      <th>MATTHEWS_COR</th>\n      <td>0.570450</td>\n      <td>0.529388</td>\n      <td>0.379695</td>\n      <td>-0.029131</td>\n      <td>-0.075472</td>\n      <td>0.338424</td>\n      <td>0.410118</td>\n      <td>0.402228</td>\n      <td>0.457157</td>\n    </tr>\n    <tr>\n      <th>PRECISION</th>\n      <td>0.881356</td>\n      <td>0.874576</td>\n      <td>0.840391</td>\n      <td>0.750000</td>\n      <td>0.775168</td>\n      <td>0.836066</td>\n      <td>0.945055</td>\n      <td>0.833333</td>\n      <td>0.846154</td>\n    </tr>\n    <tr>\n      <th>RECALL</th>\n      <td>0.962963</td>\n      <td>0.955556</td>\n      <td>0.955556</td>\n      <td>0.088889</td>\n      <td>0.855556</td>\n      <td>0.944444</td>\n      <td>0.637037</td>\n      <td>0.981481</td>\n      <td>0.977778</td>\n    </tr>\n  </tbody>\n</table>\n</div>"
     },
     "execution_count": 24,
     "metadata": {},
     "output_type": "execute_result"
    }
   ],
   "source": [
    "import pandas as pd\n",
    "\n",
    "metrics_comparison_data = pd.concat(\n",
    "    [\n",
    "        get_scoring_metrics(\n",
    "            benchmark_data_final[\"Mutation_Effect_Label\"], benchmark_data_final[\"PREDATOR_DEFAULT\"]\n",
    "        ),\n",
    "        get_scoring_metrics(\n",
    "            benchmark_data_final[\"Mutation_Effect_Label\"], benchmark_data_final[\"PREDATOR_FS\"]\n",
    "        ),\n",
    "        get_scoring_metrics(\n",
    "            benchmark_data_final[\"Mutation_Effect_Label\"], benchmark_data_final[\"PREDATOR_FS_HP\"]\n",
    "        ),\n",
    "        get_scoring_metrics(\n",
    "            benchmark_data_final[\"Mutation_Effect_Label\"], benchmark_data_final[\"SAAMBE_3D\"]\n",
    "        ),\n",
    "        get_scoring_metrics(\n",
    "            benchmark_data_final[\"Mutation_Effect_Label\"], benchmark_data_final[\"PANDA\"]\n",
    "        ),\n",
    "        get_scoring_metrics(\n",
    "            benchmark_data_final[\"Mutation_Effect_Label\"], benchmark_data_final[\"mCSM_PP2\"]\n",
    "        ),\n",
    "        get_scoring_metrics(\n",
    "            benchmark_data_final[\"Mutation_Effect_Label\"], benchmark_data_final[\"MutaBind2\"]\n",
    "        ),\n",
    "        get_scoring_metrics(\n",
    "            benchmark_data_final[\"Mutation_Effect_Label\"], benchmark_data_final[\"ELASPIC ΔΔ (Fixed Threshold)\"]\n",
    "        ),\n",
    "        get_scoring_metrics(\n",
    "            benchmark_data_final[\"Mutation_Effect_Label\"], benchmark_data_final[\"Provean (Fixed Threshold)\"]\n",
    "        ),\n",
    "\n",
    "    ], axis=\"columns\"\n",
    ")\n",
    "\n",
    "metrics_comparison_data.columns = [\n",
    "    \"Predator_default\",\n",
    "    \"Predator_Shap_10\",\n",
    "    \"Predator_Shap_10_Tuned\",\n",
    "    \"SAAMBE_3D\",\n",
    "    \"PANDA\",\n",
    "    \"mCSM_PP2\",\n",
    "    \"MutaBind2\",\n",
    "    \"ELASPIC ΔΔ (Fixed Threshold)\",\n",
    "    \"Provean (Fixed Threshold)\",\n",
    "]\n",
    "\n",
    "print(f\"Prediction results in {len(benchmark_data_final)} entries.\")\n",
    "metrics_comparison_data"
   ],
   "metadata": {
    "collapsed": false,
    "pycharm": {
     "name": "#%%\n"
    }
   }
  },
  {
   "cell_type": "code",
   "execution_count": 25,
   "outputs": [
    {
     "data": {
      "text/plain": "                   Predator_Shap_10  SAAMBE_3D  PANDA  mCSM_PP2  MutaBind2  \\\nACCURACY                       0.86       0.26   0.69      0.81       0.69   \nBALANCED_ACCURACY              0.72       0.49   0.47      0.63       0.75   \nF1                             0.91       0.16   0.81      0.89       0.76   \nPRECISION                      0.87       0.75   0.78      0.84       0.95   \nRECALL                         0.96       0.09   0.86      0.94       0.64   \nMATTHEWS_COR                   0.53      -0.03  -0.08      0.34       0.41   \n\n                   ELASPIC ΔΔ (Fixed Threshold)  Provean (Fixed Threshold)  \nACCURACY                                   0.83                       0.84  \nBALANCED_ACCURACY                          0.63                       0.66  \nF1                                         0.90                       0.91  \nPRECISION                                  0.83                       0.85  \nRECALL                                     0.98                       0.98  \nMATTHEWS_COR                               0.40                       0.46  ",
      "text/html": "<div>\n<style scoped>\n    .dataframe tbody tr th:only-of-type {\n        vertical-align: middle;\n    }\n\n    .dataframe tbody tr th {\n        vertical-align: top;\n    }\n\n    .dataframe thead th {\n        text-align: right;\n    }\n</style>\n<table border=\"1\" class=\"dataframe\">\n  <thead>\n    <tr style=\"text-align: right;\">\n      <th></th>\n      <th>Predator_Shap_10</th>\n      <th>SAAMBE_3D</th>\n      <th>PANDA</th>\n      <th>mCSM_PP2</th>\n      <th>MutaBind2</th>\n      <th>ELASPIC ΔΔ (Fixed Threshold)</th>\n      <th>Provean (Fixed Threshold)</th>\n    </tr>\n  </thead>\n  <tbody>\n    <tr>\n      <th>ACCURACY</th>\n      <td>0.86</td>\n      <td>0.26</td>\n      <td>0.69</td>\n      <td>0.81</td>\n      <td>0.69</td>\n      <td>0.83</td>\n      <td>0.84</td>\n    </tr>\n    <tr>\n      <th>BALANCED_ACCURACY</th>\n      <td>0.72</td>\n      <td>0.49</td>\n      <td>0.47</td>\n      <td>0.63</td>\n      <td>0.75</td>\n      <td>0.63</td>\n      <td>0.66</td>\n    </tr>\n    <tr>\n      <th>F1</th>\n      <td>0.91</td>\n      <td>0.16</td>\n      <td>0.81</td>\n      <td>0.89</td>\n      <td>0.76</td>\n      <td>0.90</td>\n      <td>0.91</td>\n    </tr>\n    <tr>\n      <th>PRECISION</th>\n      <td>0.87</td>\n      <td>0.75</td>\n      <td>0.78</td>\n      <td>0.84</td>\n      <td>0.95</td>\n      <td>0.83</td>\n      <td>0.85</td>\n    </tr>\n    <tr>\n      <th>RECALL</th>\n      <td>0.96</td>\n      <td>0.09</td>\n      <td>0.86</td>\n      <td>0.94</td>\n      <td>0.64</td>\n      <td>0.98</td>\n      <td>0.98</td>\n    </tr>\n    <tr>\n      <th>MATTHEWS_COR</th>\n      <td>0.53</td>\n      <td>-0.03</td>\n      <td>-0.08</td>\n      <td>0.34</td>\n      <td>0.41</td>\n      <td>0.40</td>\n      <td>0.46</td>\n    </tr>\n  </tbody>\n</table>\n</div>"
     },
     "execution_count": 25,
     "metadata": {},
     "output_type": "execute_result"
    }
   ],
   "source": [
    "df = metrics_comparison_data.drop([\"Predator_default\", \"Predator_Shap_10_Tuned\"],axis=\"columns\")\n",
    "df = df.round(2)\n",
    "df = df.loc[[\"ACCURACY\", \"BALANCED_ACCURACY\", \"F1\", \"PRECISION\", \"RECALL\", \"MATTHEWS_COR\"], :]\n",
    "df"
   ],
   "metadata": {
    "collapsed": false,
    "pycharm": {
     "name": "#%%\n"
    }
   }
  },
  {
   "cell_type": "code",
   "execution_count": null,
   "outputs": [],
   "source": [],
   "metadata": {
    "collapsed": false,
    "pycharm": {
     "name": "#%%\n"
    }
   }
  },
  {
   "cell_type": "code",
   "execution_count": 20,
   "outputs": [
    {
     "name": "stdout",
     "output_type": "stream",
     "text": [
      "\\begin{tabular}{lrrrrrr}\n",
      "\\toprule\n",
      "{} &  Predator\\_Shap\\_10 &  SAAMBE\\_3D &  PANDA &  mCSM\\_PP2 &  ELASPIC ΔΔ (Fixed Threshold) &  Provean (Fixed Threshold) \\\\\n",
      "\\midrule\n",
      "ACCURACY          &              0.85 &       0.25 &   0.69 &      0.81 &                          0.83 &                       0.84 \\\\\n",
      "BALANCED\\_ACCURACY &              0.72 &       0.48 &   0.47 &      0.62 &                          0.62 &                       0.65 \\\\\n",
      "F1                &              0.91 &       0.15 &   0.81 &      0.88 &                          0.90 &                       0.90 \\\\\n",
      "PRECISION         &              0.87 &       0.71 &   0.77 &      0.83 &                          0.83 &                       0.84 \\\\\n",
      "RECALL            &              0.95 &       0.08 &   0.86 &      0.95 &                          0.98 &                       0.98 \\\\\n",
      "MATTHEWS\\_COR      &              0.52 &      -0.06 &  -0.08 &      0.32 &                          0.39 &                       0.44 \\\\\n",
      "\\bottomrule\n",
      "\\end{tabular}\n",
      "\n"
     ]
    }
   ],
   "source": [
    "print(df.to_latex())"
   ],
   "metadata": {
    "collapsed": false,
    "pycharm": {
     "name": "#%%\n"
    }
   }
  },
  {
   "cell_type": "code",
   "execution_count": null,
   "outputs": [],
   "source": [
    "# the end"
   ],
   "metadata": {
    "collapsed": false,
    "pycharm": {
     "name": "#%%\n"
    }
   }
  },
  {
   "cell_type": "markdown",
   "source": [
    "### ---------------------------"
   ],
   "metadata": {
    "collapsed": false,
    "pycharm": {
     "name": "#%% md\n"
    }
   }
  },
  {
   "cell_type": "code",
   "execution_count": null,
   "outputs": [],
   "source": [],
   "metadata": {
    "collapsed": false,
    "pycharm": {
     "name": "#%%\n"
    }
   }
  }
 ],
 "metadata": {
  "kernelspec": {
   "name": "predator",
   "language": "python",
   "display_name": "Predator"
  },
  "language_info": {
   "codemirror_mode": {
    "name": "ipython",
    "version": 2
   },
   "file_extension": ".py",
   "mimetype": "text/x-python",
   "name": "python",
   "nbconvert_exporter": "python",
   "pygments_lexer": "ipython2",
   "version": "2.7.6"
  }
 },
 "nbformat": 4,
 "nbformat_minor": 0
}