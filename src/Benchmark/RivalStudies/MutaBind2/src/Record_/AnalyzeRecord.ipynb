{
 "cells": [
  {
   "cell_type": "markdown",
   "metadata": {
    "collapsed": true,
    "pycharm": {
     "name": "#%% md\n"
    }
   },
   "source": [
    "# Analyze Record Data"
   ]
  },
  {
   "cell_type": "code",
   "execution_count": 1,
   "metadata": {
    "pycharm": {
     "name": "#%%\n"
    }
   },
   "outputs": [],
   "source": [
    "import pandas as pd\n",
    "from src.helpers.labels import ClassLabels\n",
    "\n",
    "RECORD_DATA_PATH = \"record_data.csv\""
   ]
  },
  {
   "cell_type": "code",
   "execution_count": 2,
   "outputs": [
    {
     "data": {
      "text/plain": "     MUTATION_EFFECT_LABEL   PROTEIN MUTATION INTERACTOR PDB_ID CHAIN_ID  \\\n0                        1    Q9BPZ3    F118A     P11940   1jgn        B   \n1                        1    P01116     Y40C     P50749   3ddc        A   \n2                        1    Q96QK1    F534D     Q9UBQ0   2r17        C   \n3                        1    Q96QK1    F534D   Q9UBQ0-2   2r17        C   \n4                        1  O43521-3     G66A     Q07812   3fdl        B   \n..                     ...       ...      ...        ...    ...      ...   \n735                      1    P84243     Q94A   Q9UER7-3   4hga        B   \n736                      1    Q96QK1    L589D     Q9UBQ0   2r17        C   \n737                      1    Q96QK1    L589D   Q9UBQ0-2   2r17        C   \n738                      1    P23297     F72L     P25815   2y5i        A   \n739                      1    Q15836     L46P     O43752   2nps        A   \n\n                                     ERROR_ENCOUNTERED  SUBMITTED  SAVED  \\\n0    Provided mutation position does not match with...          1      0   \n1                                                  NaN          1      1   \n2                                                  NaN          1      1   \n3                                                  NaN          1      1   \n4    Provided mutation position does not match with...          1      0   \n..                                                 ...        ...    ...   \n735  Provided mutation position does not match with...          1      0   \n736                                                NaN          1      1   \n737                                                NaN          1      1   \n738                                                NaN          1      1   \n739  Provided mutation position does not match with...          1      0   \n\n                                            RESULT_URL  \\\n0                                                  NaN   \n1    http://biosig.unimelb.edu.au/mcsm_ppi2/results...   \n2    http://biosig.unimelb.edu.au/mcsm_ppi2/results...   \n3    http://biosig.unimelb.edu.au/mcsm_ppi2/results...   \n4                                                  NaN   \n..                                                 ...   \n735                                                NaN   \n736  http://biosig.unimelb.edu.au/mcsm_ppi2/results...   \n737  http://biosig.unimelb.edu.au/mcsm_ppi2/results...   \n738  http://biosig.unimelb.edu.au/mcsm_ppi2/results...   \n739                                                NaN   \n\n     PREDICTED_AFFINITY_CHANGE_VALUE PREDICTED_AFFINITY_CHANGE  \\\n0                                NaN                       NaN   \n1                             -2.180       Decreasing affinity   \n2                             -1.982       Decreasing affinity   \n3                             -1.982       Decreasing affinity   \n4                                NaN                       NaN   \n..                               ...                       ...   \n735                              NaN                       NaN   \n736                           -1.820       Decreasing affinity   \n737                           -1.820       Decreasing affinity   \n738                           -2.001       Decreasing affinity   \n739                              NaN                       NaN   \n\n    MUTATION_DETAILS_CHAIN  MUTATION_DETAILS_POSITION  \\\n0                      NaN                        NaN   \n1                        A                       40.0   \n2                        C                      534.0   \n3                        C                      534.0   \n4                      NaN                        NaN   \n..                     ...                        ...   \n735                    NaN                        NaN   \n736                      C                      589.0   \n737                      C                      589.0   \n738                      A                       72.0   \n739                    NaN                        NaN   \n\n    MUTATION_DETAILS_WILDTYPE MUTATION_DETAILS_MUTANT  \\\n0                         NaN                     NaN   \n1                         TYR                     CYS   \n2                         PHE                     ASP   \n3                         PHE                     ASP   \n4                         NaN                     NaN   \n..                        ...                     ...   \n735                       NaN                     NaN   \n736                       LEU                     ASP   \n737                       LEU                     ASP   \n738                       PHE                     LEU   \n739                       NaN                     NaN   \n\n    MUTATION_DETAILS_DISTANCE_FROM_CLOSEST_PARTNER  \n0                                              NaN  \n1                                           3.494Å  \n2                                           3.482Å  \n3                                           3.482Å  \n4                                              NaN  \n..                                             ...  \n735                                            NaN  \n736                                         3.433Å  \n737                                         3.433Å  \n738                                         3.527Å  \n739                                            NaN  \n\n[740 rows x 17 columns]",
      "text/html": "<div>\n<style scoped>\n    .dataframe tbody tr th:only-of-type {\n        vertical-align: middle;\n    }\n\n    .dataframe tbody tr th {\n        vertical-align: top;\n    }\n\n    .dataframe thead th {\n        text-align: right;\n    }\n</style>\n<table border=\"1\" class=\"dataframe\">\n  <thead>\n    <tr style=\"text-align: right;\">\n      <th></th>\n      <th>MUTATION_EFFECT_LABEL</th>\n      <th>PROTEIN</th>\n      <th>MUTATION</th>\n      <th>INTERACTOR</th>\n      <th>PDB_ID</th>\n      <th>CHAIN_ID</th>\n      <th>ERROR_ENCOUNTERED</th>\n      <th>SUBMITTED</th>\n      <th>SAVED</th>\n      <th>RESULT_URL</th>\n      <th>PREDICTED_AFFINITY_CHANGE_VALUE</th>\n      <th>PREDICTED_AFFINITY_CHANGE</th>\n      <th>MUTATION_DETAILS_CHAIN</th>\n      <th>MUTATION_DETAILS_POSITION</th>\n      <th>MUTATION_DETAILS_WILDTYPE</th>\n      <th>MUTATION_DETAILS_MUTANT</th>\n      <th>MUTATION_DETAILS_DISTANCE_FROM_CLOSEST_PARTNER</th>\n    </tr>\n  </thead>\n  <tbody>\n    <tr>\n      <th>0</th>\n      <td>1</td>\n      <td>Q9BPZ3</td>\n      <td>F118A</td>\n      <td>P11940</td>\n      <td>1jgn</td>\n      <td>B</td>\n      <td>Provided mutation position does not match with...</td>\n      <td>1</td>\n      <td>0</td>\n      <td>NaN</td>\n      <td>NaN</td>\n      <td>NaN</td>\n      <td>NaN</td>\n      <td>NaN</td>\n      <td>NaN</td>\n      <td>NaN</td>\n      <td>NaN</td>\n    </tr>\n    <tr>\n      <th>1</th>\n      <td>1</td>\n      <td>P01116</td>\n      <td>Y40C</td>\n      <td>P50749</td>\n      <td>3ddc</td>\n      <td>A</td>\n      <td>NaN</td>\n      <td>1</td>\n      <td>1</td>\n      <td>http://biosig.unimelb.edu.au/mcsm_ppi2/results...</td>\n      <td>-2.180</td>\n      <td>Decreasing affinity</td>\n      <td>A</td>\n      <td>40.0</td>\n      <td>TYR</td>\n      <td>CYS</td>\n      <td>3.494Å</td>\n    </tr>\n    <tr>\n      <th>2</th>\n      <td>1</td>\n      <td>Q96QK1</td>\n      <td>F534D</td>\n      <td>Q9UBQ0</td>\n      <td>2r17</td>\n      <td>C</td>\n      <td>NaN</td>\n      <td>1</td>\n      <td>1</td>\n      <td>http://biosig.unimelb.edu.au/mcsm_ppi2/results...</td>\n      <td>-1.982</td>\n      <td>Decreasing affinity</td>\n      <td>C</td>\n      <td>534.0</td>\n      <td>PHE</td>\n      <td>ASP</td>\n      <td>3.482Å</td>\n    </tr>\n    <tr>\n      <th>3</th>\n      <td>1</td>\n      <td>Q96QK1</td>\n      <td>F534D</td>\n      <td>Q9UBQ0-2</td>\n      <td>2r17</td>\n      <td>C</td>\n      <td>NaN</td>\n      <td>1</td>\n      <td>1</td>\n      <td>http://biosig.unimelb.edu.au/mcsm_ppi2/results...</td>\n      <td>-1.982</td>\n      <td>Decreasing affinity</td>\n      <td>C</td>\n      <td>534.0</td>\n      <td>PHE</td>\n      <td>ASP</td>\n      <td>3.482Å</td>\n    </tr>\n    <tr>\n      <th>4</th>\n      <td>1</td>\n      <td>O43521-3</td>\n      <td>G66A</td>\n      <td>Q07812</td>\n      <td>3fdl</td>\n      <td>B</td>\n      <td>Provided mutation position does not match with...</td>\n      <td>1</td>\n      <td>0</td>\n      <td>NaN</td>\n      <td>NaN</td>\n      <td>NaN</td>\n      <td>NaN</td>\n      <td>NaN</td>\n      <td>NaN</td>\n      <td>NaN</td>\n      <td>NaN</td>\n    </tr>\n    <tr>\n      <th>...</th>\n      <td>...</td>\n      <td>...</td>\n      <td>...</td>\n      <td>...</td>\n      <td>...</td>\n      <td>...</td>\n      <td>...</td>\n      <td>...</td>\n      <td>...</td>\n      <td>...</td>\n      <td>...</td>\n      <td>...</td>\n      <td>...</td>\n      <td>...</td>\n      <td>...</td>\n      <td>...</td>\n      <td>...</td>\n    </tr>\n    <tr>\n      <th>735</th>\n      <td>1</td>\n      <td>P84243</td>\n      <td>Q94A</td>\n      <td>Q9UER7-3</td>\n      <td>4hga</td>\n      <td>B</td>\n      <td>Provided mutation position does not match with...</td>\n      <td>1</td>\n      <td>0</td>\n      <td>NaN</td>\n      <td>NaN</td>\n      <td>NaN</td>\n      <td>NaN</td>\n      <td>NaN</td>\n      <td>NaN</td>\n      <td>NaN</td>\n      <td>NaN</td>\n    </tr>\n    <tr>\n      <th>736</th>\n      <td>1</td>\n      <td>Q96QK1</td>\n      <td>L589D</td>\n      <td>Q9UBQ0</td>\n      <td>2r17</td>\n      <td>C</td>\n      <td>NaN</td>\n      <td>1</td>\n      <td>1</td>\n      <td>http://biosig.unimelb.edu.au/mcsm_ppi2/results...</td>\n      <td>-1.820</td>\n      <td>Decreasing affinity</td>\n      <td>C</td>\n      <td>589.0</td>\n      <td>LEU</td>\n      <td>ASP</td>\n      <td>3.433Å</td>\n    </tr>\n    <tr>\n      <th>737</th>\n      <td>1</td>\n      <td>Q96QK1</td>\n      <td>L589D</td>\n      <td>Q9UBQ0-2</td>\n      <td>2r17</td>\n      <td>C</td>\n      <td>NaN</td>\n      <td>1</td>\n      <td>1</td>\n      <td>http://biosig.unimelb.edu.au/mcsm_ppi2/results...</td>\n      <td>-1.820</td>\n      <td>Decreasing affinity</td>\n      <td>C</td>\n      <td>589.0</td>\n      <td>LEU</td>\n      <td>ASP</td>\n      <td>3.433Å</td>\n    </tr>\n    <tr>\n      <th>738</th>\n      <td>1</td>\n      <td>P23297</td>\n      <td>F72L</td>\n      <td>P25815</td>\n      <td>2y5i</td>\n      <td>A</td>\n      <td>NaN</td>\n      <td>1</td>\n      <td>1</td>\n      <td>http://biosig.unimelb.edu.au/mcsm_ppi2/results...</td>\n      <td>-2.001</td>\n      <td>Decreasing affinity</td>\n      <td>A</td>\n      <td>72.0</td>\n      <td>PHE</td>\n      <td>LEU</td>\n      <td>3.527Å</td>\n    </tr>\n    <tr>\n      <th>739</th>\n      <td>1</td>\n      <td>Q15836</td>\n      <td>L46P</td>\n      <td>O43752</td>\n      <td>2nps</td>\n      <td>A</td>\n      <td>Provided mutation position does not match with...</td>\n      <td>1</td>\n      <td>0</td>\n      <td>NaN</td>\n      <td>NaN</td>\n      <td>NaN</td>\n      <td>NaN</td>\n      <td>NaN</td>\n      <td>NaN</td>\n      <td>NaN</td>\n      <td>NaN</td>\n    </tr>\n  </tbody>\n</table>\n<p>740 rows × 17 columns</p>\n</div>"
     },
     "execution_count": 2,
     "metadata": {},
     "output_type": "execute_result"
    }
   ],
   "source": [
    "record_data = pd.read_csv(RECORD_DATA_PATH)\n",
    "record_data"
   ],
   "metadata": {
    "collapsed": false,
    "pycharm": {
     "name": "#%%\n"
    }
   }
  },
  {
   "cell_type": "code",
   "execution_count": 3,
   "metadata": {
    "pycharm": {
     "name": "#%%\n"
    }
   },
   "outputs": [
    {
     "data": {
      "text/plain": "{'Provided mutation position does not match with PDB file.'}"
     },
     "execution_count": 3,
     "metadata": {},
     "output_type": "execute_result"
    }
   ],
   "source": [
    "errors_encountered = set()\n",
    "for error_message in record_data[\"ERROR_ENCOUNTERED\"].unique():\n",
    "\n",
    "    if pd.isnull(error_message):\n",
    "        continue\n",
    "\n",
    "    error_header = error_message.split(\"\\n\")[0]\n",
    "    errors_encountered.add(error_header)\n",
    "\n",
    "errors_encountered"
   ]
  },
  {
   "cell_type": "code",
   "execution_count": 4,
   "outputs": [
    {
     "data": {
      "text/plain": "     Mutation_Effect_Label UniProt_ID Mutation Interactor_UniProt_ID pdb_id  \\\n0                        1     Q9BPZ3    F118A                P11940   1jgn   \n1                        1     P01116     Y40C                P50749   3ddc   \n2                        1     Q96QK1    F534D                Q9UBQ0   2r17   \n3                        1     Q96QK1    F534D              Q9UBQ0-2   2r17   \n4                        1   O43521-3     G66A                Q07812   3fdl   \n..                     ...        ...      ...                   ...    ...   \n735                      1     P84243     Q94A              Q9UER7-3   4hga   \n736                      1     Q96QK1    L589D                Q9UBQ0   2r17   \n737                      1     Q96QK1    L589D              Q9UBQ0-2   2r17   \n738                      1     P23297     F72L                P25815   2y5i   \n739                      1     Q15836     L46P                O43752   2nps   \n\n    chain_id  mCSM_PP2_Prediction  \n0          B                  NaN  \n1          A  Decreasing affinity  \n2          C  Decreasing affinity  \n3          C  Decreasing affinity  \n4          B                  NaN  \n..       ...                  ...  \n735        B                  NaN  \n736        C  Decreasing affinity  \n737        C  Decreasing affinity  \n738        A  Decreasing affinity  \n739        A                  NaN  \n\n[740 rows x 7 columns]",
      "text/html": "<div>\n<style scoped>\n    .dataframe tbody tr th:only-of-type {\n        vertical-align: middle;\n    }\n\n    .dataframe tbody tr th {\n        vertical-align: top;\n    }\n\n    .dataframe thead th {\n        text-align: right;\n    }\n</style>\n<table border=\"1\" class=\"dataframe\">\n  <thead>\n    <tr style=\"text-align: right;\">\n      <th></th>\n      <th>Mutation_Effect_Label</th>\n      <th>UniProt_ID</th>\n      <th>Mutation</th>\n      <th>Interactor_UniProt_ID</th>\n      <th>pdb_id</th>\n      <th>chain_id</th>\n      <th>mCSM_PP2_Prediction</th>\n    </tr>\n  </thead>\n  <tbody>\n    <tr>\n      <th>0</th>\n      <td>1</td>\n      <td>Q9BPZ3</td>\n      <td>F118A</td>\n      <td>P11940</td>\n      <td>1jgn</td>\n      <td>B</td>\n      <td>NaN</td>\n    </tr>\n    <tr>\n      <th>1</th>\n      <td>1</td>\n      <td>P01116</td>\n      <td>Y40C</td>\n      <td>P50749</td>\n      <td>3ddc</td>\n      <td>A</td>\n      <td>Decreasing affinity</td>\n    </tr>\n    <tr>\n      <th>2</th>\n      <td>1</td>\n      <td>Q96QK1</td>\n      <td>F534D</td>\n      <td>Q9UBQ0</td>\n      <td>2r17</td>\n      <td>C</td>\n      <td>Decreasing affinity</td>\n    </tr>\n    <tr>\n      <th>3</th>\n      <td>1</td>\n      <td>Q96QK1</td>\n      <td>F534D</td>\n      <td>Q9UBQ0-2</td>\n      <td>2r17</td>\n      <td>C</td>\n      <td>Decreasing affinity</td>\n    </tr>\n    <tr>\n      <th>4</th>\n      <td>1</td>\n      <td>O43521-3</td>\n      <td>G66A</td>\n      <td>Q07812</td>\n      <td>3fdl</td>\n      <td>B</td>\n      <td>NaN</td>\n    </tr>\n    <tr>\n      <th>...</th>\n      <td>...</td>\n      <td>...</td>\n      <td>...</td>\n      <td>...</td>\n      <td>...</td>\n      <td>...</td>\n      <td>...</td>\n    </tr>\n    <tr>\n      <th>735</th>\n      <td>1</td>\n      <td>P84243</td>\n      <td>Q94A</td>\n      <td>Q9UER7-3</td>\n      <td>4hga</td>\n      <td>B</td>\n      <td>NaN</td>\n    </tr>\n    <tr>\n      <th>736</th>\n      <td>1</td>\n      <td>Q96QK1</td>\n      <td>L589D</td>\n      <td>Q9UBQ0</td>\n      <td>2r17</td>\n      <td>C</td>\n      <td>Decreasing affinity</td>\n    </tr>\n    <tr>\n      <th>737</th>\n      <td>1</td>\n      <td>Q96QK1</td>\n      <td>L589D</td>\n      <td>Q9UBQ0-2</td>\n      <td>2r17</td>\n      <td>C</td>\n      <td>Decreasing affinity</td>\n    </tr>\n    <tr>\n      <th>738</th>\n      <td>1</td>\n      <td>P23297</td>\n      <td>F72L</td>\n      <td>P25815</td>\n      <td>2y5i</td>\n      <td>A</td>\n      <td>Decreasing affinity</td>\n    </tr>\n    <tr>\n      <th>739</th>\n      <td>1</td>\n      <td>Q15836</td>\n      <td>L46P</td>\n      <td>O43752</td>\n      <td>2nps</td>\n      <td>A</td>\n      <td>NaN</td>\n    </tr>\n  </tbody>\n</table>\n<p>740 rows × 7 columns</p>\n</div>"
     },
     "execution_count": 4,
     "metadata": {},
     "output_type": "execute_result"
    }
   ],
   "source": [
    "prediction_data = record_data[\n",
    "    [\"MUTATION_EFFECT_LABEL\", \"PROTEIN\", \"MUTATION\", \"INTERACTOR\", \"PDB_ID\", \"CHAIN_ID\", \"PREDICTED_AFFINITY_CHANGE\"]\n",
    "].copy()\n",
    "\n",
    "prediction_data = prediction_data.rename(\n",
    "    columns={\n",
    "        \"MUTATION_EFFECT_LABEL\": \"Mutation_Effect_Label\",\n",
    "        \"PROTEIN\": \"UniProt_ID\",\n",
    "        \"MUTATION\": \"Mutation\",\n",
    "        \"INTERACTOR\": \"Interactor_UniProt_ID\",\n",
    "        \"PDB_ID\": \"pdb_id\",\n",
    "        \"CHAIN_ID\": \"chain_id\",\n",
    "        \"PREDICTED_AFFINITY_CHANGE\": \"mCSM_PP2_Prediction\"\n",
    "    }\n",
    ")\n",
    "\n",
    "prediction_data"
   ],
   "metadata": {
    "collapsed": false,
    "pycharm": {
     "name": "#%%\n"
    }
   }
  },
  {
   "cell_type": "code",
   "execution_count": 5,
   "outputs": [
    {
     "name": "stdout",
     "output_type": "stream",
     "text": [
      "[nan, 'Decreasing affinity', 'Increasing affinity']\n"
     ]
    },
    {
     "data": {
      "text/plain": "<Figure size 432x288 with 1 Axes>",
      "image/png": "[encoded data removed]"
     },
     "metadata": {},
     "output_type": "display_data"
    }
   ],
   "source": [
    "print(prediction_data[\"mCSM_PP2_Prediction\"].unique().tolist())\n",
    "prediction_data[\"mCSM_PP2_Prediction\"].value_counts().plot(kind=\"bar\");"
   ],
   "metadata": {
    "collapsed": false,
    "pycharm": {
     "name": "#%%\n"
    }
   }
  },
  {
   "cell_type": "code",
   "execution_count": 6,
   "outputs": [
    {
     "data": {
      "text/plain": "     Mutation_Effect_Label UniProt_ID Mutation Interactor_UniProt_ID pdb_id  \\\n0                        1     Q9BPZ3    F118A                P11940   1jgn   \n1                        1     P01116     Y40C                P50749   3ddc   \n2                        1     Q96QK1    F534D                Q9UBQ0   2r17   \n3                        1     Q96QK1    F534D              Q9UBQ0-2   2r17   \n4                        1   O43521-3     G66A                Q07812   3fdl   \n..                     ...        ...      ...                   ...    ...   \n735                      1     P84243     Q94A              Q9UER7-3   4hga   \n736                      1     Q96QK1    L589D                Q9UBQ0   2r17   \n737                      1     Q96QK1    L589D              Q9UBQ0-2   2r17   \n738                      1     P23297     F72L                P25815   2y5i   \n739                      1     Q15836     L46P                O43752   2nps   \n\n    chain_id  mCSM_PP2_Prediction  \n0          B                  NaN  \n1          A                  1.0  \n2          C                  1.0  \n3          C                  1.0  \n4          B                  NaN  \n..       ...                  ...  \n735        B                  NaN  \n736        C                  1.0  \n737        C                  1.0  \n738        A                  1.0  \n739        A                  NaN  \n\n[740 rows x 7 columns]",
      "text/html": "<div>\n<style scoped>\n    .dataframe tbody tr th:only-of-type {\n        vertical-align: middle;\n    }\n\n    .dataframe tbody tr th {\n        vertical-align: top;\n    }\n\n    .dataframe thead th {\n        text-align: right;\n    }\n</style>\n<table border=\"1\" class=\"dataframe\">\n  <thead>\n    <tr style=\"text-align: right;\">\n      <th></th>\n      <th>Mutation_Effect_Label</th>\n      <th>UniProt_ID</th>\n      <th>Mutation</th>\n      <th>Interactor_UniProt_ID</th>\n      <th>pdb_id</th>\n      <th>chain_id</th>\n      <th>mCSM_PP2_Prediction</th>\n    </tr>\n  </thead>\n  <tbody>\n    <tr>\n      <th>0</th>\n      <td>1</td>\n      <td>Q9BPZ3</td>\n      <td>F118A</td>\n      <td>P11940</td>\n      <td>1jgn</td>\n      <td>B</td>\n      <td>NaN</td>\n    </tr>\n    <tr>\n      <th>1</th>\n      <td>1</td>\n      <td>P01116</td>\n      <td>Y40C</td>\n      <td>P50749</td>\n      <td>3ddc</td>\n      <td>A</td>\n      <td>1.0</td>\n    </tr>\n    <tr>\n      <th>2</th>\n      <td>1</td>\n      <td>Q96QK1</td>\n      <td>F534D</td>\n      <td>Q9UBQ0</td>\n      <td>2r17</td>\n      <td>C</td>\n      <td>1.0</td>\n    </tr>\n    <tr>\n      <th>3</th>\n      <td>1</td>\n      <td>Q96QK1</td>\n      <td>F534D</td>\n      <td>Q9UBQ0-2</td>\n      <td>2r17</td>\n      <td>C</td>\n      <td>1.0</td>\n    </tr>\n    <tr>\n      <th>4</th>\n      <td>1</td>\n      <td>O43521-3</td>\n      <td>G66A</td>\n      <td>Q07812</td>\n      <td>3fdl</td>\n      <td>B</td>\n      <td>NaN</td>\n    </tr>\n    <tr>\n      <th>...</th>\n      <td>...</td>\n      <td>...</td>\n      <td>...</td>\n      <td>...</td>\n      <td>...</td>\n      <td>...</td>\n      <td>...</td>\n    </tr>\n    <tr>\n      <th>735</th>\n      <td>1</td>\n      <td>P84243</td>\n      <td>Q94A</td>\n      <td>Q9UER7-3</td>\n      <td>4hga</td>\n      <td>B</td>\n      <td>NaN</td>\n    </tr>\n    <tr>\n      <th>736</th>\n      <td>1</td>\n      <td>Q96QK1</td>\n      <td>L589D</td>\n      <td>Q9UBQ0</td>\n      <td>2r17</td>\n      <td>C</td>\n      <td>1.0</td>\n    </tr>\n    <tr>\n      <th>737</th>\n      <td>1</td>\n      <td>Q96QK1</td>\n      <td>L589D</td>\n      <td>Q9UBQ0-2</td>\n      <td>2r17</td>\n      <td>C</td>\n      <td>1.0</td>\n    </tr>\n    <tr>\n      <th>738</th>\n      <td>1</td>\n      <td>P23297</td>\n      <td>F72L</td>\n      <td>P25815</td>\n      <td>2y5i</td>\n      <td>A</td>\n      <td>1.0</td>\n    </tr>\n    <tr>\n      <th>739</th>\n      <td>1</td>\n      <td>Q15836</td>\n      <td>L46P</td>\n      <td>O43752</td>\n      <td>2nps</td>\n      <td>A</td>\n      <td>NaN</td>\n    </tr>\n  </tbody>\n</table>\n<p>740 rows × 7 columns</p>\n</div>"
     },
     "execution_count": 6,
     "metadata": {},
     "output_type": "execute_result"
    }
   ],
   "source": [
    "prediction_data[\"mCSM_PP2_Prediction\"] = prediction_data[\"mCSM_PP2_Prediction\"].replace(\n",
    "    {\"Decreasing affinity\": ClassLabels.DISRUPTING, \"Increasing affinity\": ClassLabels.NONDISRUPTING}\n",
    ")\n",
    "prediction_data"
   ],
   "metadata": {
    "collapsed": false,
    "pycharm": {
     "name": "#%%\n"
    }
   }
  },
  {
   "cell_type": "code",
   "execution_count": 7,
   "outputs": [
    {
     "data": {
      "text/plain": "<Figure size 432x288 with 1 Axes>",
      "image/png": "[encoded data removed]"
     },
     "metadata": {},
     "output_type": "display_data"
    }
   ],
   "source": [
    "prediction_data[\"mCSM_PP2_Prediction\"].value_counts().plot(kind=\"bar\");"
   ],
   "metadata": {
    "collapsed": false,
    "pycharm": {
     "name": "#%%\n"
    }
   }
  },
  {
   "cell_type": "code",
   "execution_count": 8,
   "metadata": {
    "pycharm": {
     "name": "#%%\n"
    }
   },
   "outputs": [],
   "source": [
    "from utils import save_prediction_data"
   ]
  },
  {
   "cell_type": "code",
   "execution_count": 9,
   "metadata": {
    "pycharm": {
     "name": "#%%\n"
    }
   },
   "outputs": [
    {
     "name": "stdout",
     "output_type": "stream",
     "text": [
      "Prediction data `.\\mcsm_ppi2_predictions_2022-06-19.csv`is exported.\n"
     ]
    }
   ],
   "source": [
    "save_prediction_data(\".\", \"mcsm_ppi2_predictions\", prediction_data)"
   ]
  },
  {
   "cell_type": "code",
   "execution_count": null,
   "metadata": {
    "pycharm": {
     "name": "#%%\n"
    }
   },
   "outputs": [],
   "source": []
  },
  {
   "cell_type": "code",
   "execution_count": null,
   "metadata": {
    "pycharm": {
     "name": "#%%\n"
    }
   },
   "outputs": [],
   "source": []
  }
 ],
 "metadata": {
  "kernelspec": {
   "name": "predator",
   "language": "python",
   "display_name": "Predator"
  },
  "language_info": {
   "codemirror_mode": {
    "name": "ipython",
    "version": 3
   },
   "file_extension": ".py",
   "mimetype": "text/x-python",
   "name": "python",
   "nbconvert_exporter": "python",
   "pygments_lexer": "ipython3",
   "version": "3.9.4"
  }
 },
 "nbformat": 4,
 "nbformat_minor": 0
}