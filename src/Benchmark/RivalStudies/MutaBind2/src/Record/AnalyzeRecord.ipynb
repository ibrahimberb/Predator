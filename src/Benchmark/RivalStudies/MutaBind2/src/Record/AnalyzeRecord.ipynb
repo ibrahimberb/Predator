{
 "cells": [
  {
   "cell_type": "markdown",
   "metadata": {
    "collapsed": true,
    "pycharm": {
     "name": "#%% md\n"
    }
   },
   "source": [
    "# Analyze Record Data"
   ]
  },
  {
   "cell_type": "code",
   "execution_count": 1,
   "metadata": {
    "pycharm": {
     "name": "#%%\n"
    }
   },
   "outputs": [],
   "source": [
    "import pandas as pd\n",
    "from src.helpers.labels import ClassLabels\n",
    "\n",
    "RECORD_DATA_PATH = \"record_data.csv\""
   ]
  },
  {
   "cell_type": "code",
   "execution_count": 2,
   "outputs": [
    {
     "data": {
      "text/plain": "     MUTATION_EFFECT_LABEL   PROTEIN MUTATION INTERACTOR PDB_ID CHAIN_ID_1  \\\n0                        1    Q9BPZ3    F118A     P11940   1jgn          B   \n1                        1    P01116     Y40C     P50749   3ddc          A   \n2                        1    Q96QK1    F534D     Q9UBQ0   2r17          C   \n3                        1    Q96QK1    F534D   Q9UBQ0-2   2r17          C   \n4                        1  O43521-3     G66A     Q07812   3fdl          B   \n..                     ...       ...      ...        ...    ...        ...   \n735                      1    P84243     Q94A   Q9UER7-3   4hga          B   \n736                      1    Q96QK1    L589D     Q9UBQ0   2r17          C   \n737                      1    Q96QK1    L589D   Q9UBQ0-2   2r17          C   \n738                      1    P23297     F72L     P25815   2y5i          A   \n739                      1    Q15836     L46P     O43752   2nps          A   \n\n    CHAIN_ID_2                                  ERROR_ENCOUNTERED  SUBMITTED  \\\n0            A  Error: we have the following requirements for ...          1   \n1            B                                                NaN          1   \n2            A                                                NaN          1   \n3            A                                                NaN          1   \n4            A  Error: we have the following requirements for ...          1   \n..         ...                                                ...        ...   \n735          A  Error: we have the following requirements for ...          1   \n736          A                                                NaN          1   \n737          A                                                NaN          1   \n738          B                                                NaN          1   \n739          D  Error: we have the following requirements for ...          1   \n\n     SAVED                                         RESULT_URL  \\\n0        0                                                NaN   \n1        1  https://lilab.jysw.suda.edu.cn/research/mutabi...   \n2        1  https://lilab.jysw.suda.edu.cn/research/mutabi...   \n3        1  https://lilab.jysw.suda.edu.cn/research/mutabi...   \n4        0                                                NaN   \n..     ...                                                ...   \n735      0                                                NaN   \n736      1  https://lilab.jysw.suda.edu.cn/research/mutabi...   \n737      1  https://lilab.jysw.suda.edu.cn/research/mutabi...   \n738      1  https://lilab.jysw.suda.edu.cn/research/mutabi...   \n739      0                                                NaN   \n\n                                JOB_ID                  PDB_ID_REGISTERED  \\\n0                                  NaN                                NaN   \n1    Job Id: 2022102717134899375098563  Job Id: 2022102717134899375098563   \n2    Job Id: 2022102717361551438880483  Job Id: 2022102717361551438880483   \n3    Job Id: 2022102717480232687747253  Job Id: 2022102717480232687747253   \n4                                  NaN                                NaN   \n..                                 ...                                ...   \n735                                NaN                                NaN   \n736  Job Id: 2022110921594465294179037  Job Id: 2022110921594465294179037   \n737  Job Id: 2022111000354900368262290  Job Id: 2022111000354900368262290   \n738  Job Id: 2022111000480306590214984  Job Id: 2022111000480306590214984   \n739                                NaN                                NaN   \n\n    MUTATED_CHAIN MUTATION_REGISTERED  DDG_PREDICTED INTERFACE DELETERIOUS  \n0             NaN                 NaN            NaN       NaN         NaN  \n1               A                Y40C           2.38       Yes         Yes  \n2               C               F534D           1.64       Yes         Yes  \n3               C               F534D           1.62       Yes         Yes  \n4             NaN                 NaN            NaN       NaN         NaN  \n..            ...                 ...            ...       ...         ...  \n735           NaN                 NaN            NaN       NaN         NaN  \n736             C               L589D           1.37       Yes          No  \n737             C               L589D           1.39       Yes          No  \n738             A                F72L           2.09       Yes         Yes  \n739           NaN                 NaN            NaN       NaN         NaN  \n\n[740 rows x 18 columns]",
      "text/html": "<div>\n<style scoped>\n    .dataframe tbody tr th:only-of-type {\n        vertical-align: middle;\n    }\n\n    .dataframe tbody tr th {\n        vertical-align: top;\n    }\n\n    .dataframe thead th {\n        text-align: right;\n    }\n</style>\n<table border=\"1\" class=\"dataframe\">\n  <thead>\n    <tr style=\"text-align: right;\">\n      <th></th>\n      <th>MUTATION_EFFECT_LABEL</th>\n      <th>PROTEIN</th>\n      <th>MUTATION</th>\n      <th>INTERACTOR</th>\n      <th>PDB_ID</th>\n      <th>CHAIN_ID_1</th>\n      <th>CHAIN_ID_2</th>\n      <th>ERROR_ENCOUNTERED</th>\n      <th>SUBMITTED</th>\n      <th>SAVED</th>\n      <th>RESULT_URL</th>\n      <th>JOB_ID</th>\n      <th>PDB_ID_REGISTERED</th>\n      <th>MUTATED_CHAIN</th>\n      <th>MUTATION_REGISTERED</th>\n      <th>DDG_PREDICTED</th>\n      <th>INTERFACE</th>\n      <th>DELETERIOUS</th>\n    </tr>\n  </thead>\n  <tbody>\n    <tr>\n      <th>0</th>\n      <td>1</td>\n      <td>Q9BPZ3</td>\n      <td>F118A</td>\n      <td>P11940</td>\n      <td>1jgn</td>\n      <td>B</td>\n      <td>A</td>\n      <td>Error: we have the following requirements for ...</td>\n      <td>1</td>\n      <td>0</td>\n      <td>NaN</td>\n      <td>NaN</td>\n      <td>NaN</td>\n      <td>NaN</td>\n      <td>NaN</td>\n      <td>NaN</td>\n      <td>NaN</td>\n      <td>NaN</td>\n    </tr>\n    <tr>\n      <th>1</th>\n      <td>1</td>\n      <td>P01116</td>\n      <td>Y40C</td>\n      <td>P50749</td>\n      <td>3ddc</td>\n      <td>A</td>\n      <td>B</td>\n      <td>NaN</td>\n      <td>1</td>\n      <td>1</td>\n      <td>https://lilab.jysw.suda.edu.cn/research/mutabi...</td>\n      <td>Job Id: 2022102717134899375098563</td>\n      <td>Job Id: 2022102717134899375098563</td>\n      <td>A</td>\n      <td>Y40C</td>\n      <td>2.38</td>\n      <td>Yes</td>\n      <td>Yes</td>\n    </tr>\n    <tr>\n      <th>2</th>\n      <td>1</td>\n      <td>Q96QK1</td>\n      <td>F534D</td>\n      <td>Q9UBQ0</td>\n      <td>2r17</td>\n      <td>C</td>\n      <td>A</td>\n      <td>NaN</td>\n      <td>1</td>\n      <td>1</td>\n      <td>https://lilab.jysw.suda.edu.cn/research/mutabi...</td>\n      <td>Job Id: 2022102717361551438880483</td>\n      <td>Job Id: 2022102717361551438880483</td>\n      <td>C</td>\n      <td>F534D</td>\n      <td>1.64</td>\n      <td>Yes</td>\n      <td>Yes</td>\n    </tr>\n    <tr>\n      <th>3</th>\n      <td>1</td>\n      <td>Q96QK1</td>\n      <td>F534D</td>\n      <td>Q9UBQ0-2</td>\n      <td>2r17</td>\n      <td>C</td>\n      <td>A</td>\n      <td>NaN</td>\n      <td>1</td>\n      <td>1</td>\n      <td>https://lilab.jysw.suda.edu.cn/research/mutabi...</td>\n      <td>Job Id: 2022102717480232687747253</td>\n      <td>Job Id: 2022102717480232687747253</td>\n      <td>C</td>\n      <td>F534D</td>\n      <td>1.62</td>\n      <td>Yes</td>\n      <td>Yes</td>\n    </tr>\n    <tr>\n      <th>4</th>\n      <td>1</td>\n      <td>O43521-3</td>\n      <td>G66A</td>\n      <td>Q07812</td>\n      <td>3fdl</td>\n      <td>B</td>\n      <td>A</td>\n      <td>Error: we have the following requirements for ...</td>\n      <td>1</td>\n      <td>0</td>\n      <td>NaN</td>\n      <td>NaN</td>\n      <td>NaN</td>\n      <td>NaN</td>\n      <td>NaN</td>\n      <td>NaN</td>\n      <td>NaN</td>\n      <td>NaN</td>\n    </tr>\n    <tr>\n      <th>...</th>\n      <td>...</td>\n      <td>...</td>\n      <td>...</td>\n      <td>...</td>\n      <td>...</td>\n      <td>...</td>\n      <td>...</td>\n      <td>...</td>\n      <td>...</td>\n      <td>...</td>\n      <td>...</td>\n      <td>...</td>\n      <td>...</td>\n      <td>...</td>\n      <td>...</td>\n      <td>...</td>\n      <td>...</td>\n      <td>...</td>\n    </tr>\n    <tr>\n      <th>735</th>\n      <td>1</td>\n      <td>P84243</td>\n      <td>Q94A</td>\n      <td>Q9UER7-3</td>\n      <td>4hga</td>\n      <td>B</td>\n      <td>A</td>\n      <td>Error: we have the following requirements for ...</td>\n      <td>1</td>\n      <td>0</td>\n      <td>NaN</td>\n      <td>NaN</td>\n      <td>NaN</td>\n      <td>NaN</td>\n      <td>NaN</td>\n      <td>NaN</td>\n      <td>NaN</td>\n      <td>NaN</td>\n    </tr>\n    <tr>\n      <th>736</th>\n      <td>1</td>\n      <td>Q96QK1</td>\n      <td>L589D</td>\n      <td>Q9UBQ0</td>\n      <td>2r17</td>\n      <td>C</td>\n      <td>A</td>\n      <td>NaN</td>\n      <td>1</td>\n      <td>1</td>\n      <td>https://lilab.jysw.suda.edu.cn/research/mutabi...</td>\n      <td>Job Id: 2022110921594465294179037</td>\n      <td>Job Id: 2022110921594465294179037</td>\n      <td>C</td>\n      <td>L589D</td>\n      <td>1.37</td>\n      <td>Yes</td>\n      <td>No</td>\n    </tr>\n    <tr>\n      <th>737</th>\n      <td>1</td>\n      <td>Q96QK1</td>\n      <td>L589D</td>\n      <td>Q9UBQ0-2</td>\n      <td>2r17</td>\n      <td>C</td>\n      <td>A</td>\n      <td>NaN</td>\n      <td>1</td>\n      <td>1</td>\n      <td>https://lilab.jysw.suda.edu.cn/research/mutabi...</td>\n      <td>Job Id: 2022111000354900368262290</td>\n      <td>Job Id: 2022111000354900368262290</td>\n      <td>C</td>\n      <td>L589D</td>\n      <td>1.39</td>\n      <td>Yes</td>\n      <td>No</td>\n    </tr>\n    <tr>\n      <th>738</th>\n      <td>1</td>\n      <td>P23297</td>\n      <td>F72L</td>\n      <td>P25815</td>\n      <td>2y5i</td>\n      <td>A</td>\n      <td>B</td>\n      <td>NaN</td>\n      <td>1</td>\n      <td>1</td>\n      <td>https://lilab.jysw.suda.edu.cn/research/mutabi...</td>\n      <td>Job Id: 2022111000480306590214984</td>\n      <td>Job Id: 2022111000480306590214984</td>\n      <td>A</td>\n      <td>F72L</td>\n      <td>2.09</td>\n      <td>Yes</td>\n      <td>Yes</td>\n    </tr>\n    <tr>\n      <th>739</th>\n      <td>1</td>\n      <td>Q15836</td>\n      <td>L46P</td>\n      <td>O43752</td>\n      <td>2nps</td>\n      <td>A</td>\n      <td>D</td>\n      <td>Error: we have the following requirements for ...</td>\n      <td>1</td>\n      <td>0</td>\n      <td>NaN</td>\n      <td>NaN</td>\n      <td>NaN</td>\n      <td>NaN</td>\n      <td>NaN</td>\n      <td>NaN</td>\n      <td>NaN</td>\n      <td>NaN</td>\n    </tr>\n  </tbody>\n</table>\n<p>740 rows × 18 columns</p>\n</div>"
     },
     "execution_count": 2,
     "metadata": {},
     "output_type": "execute_result"
    }
   ],
   "source": [
    "record_data = pd.read_csv(RECORD_DATA_PATH)\n",
    "record_data"
   ],
   "metadata": {
    "collapsed": false,
    "pycharm": {
     "name": "#%%\n"
    }
   }
  },
  {
   "cell_type": "code",
   "execution_count": 2,
   "outputs": [],
   "source": [],
   "metadata": {
    "collapsed": false,
    "pycharm": {
     "name": "#%%\n"
    }
   }
  },
  {
   "cell_type": "code",
   "execution_count": 3,
   "metadata": {
    "pycharm": {
     "name": "#%%\n"
    }
   },
   "outputs": [
    {
     "data": {
      "text/plain": "{'Error: we have the following requirements for the input file, and your submitted file does not meet one or more.'}"
     },
     "execution_count": 3,
     "metadata": {},
     "output_type": "execute_result"
    }
   ],
   "source": [
    "errors_encountered = set()\n",
    "for error_message in record_data[\"ERROR_ENCOUNTERED\"].unique():\n",
    "\n",
    "    if pd.isnull(error_message):\n",
    "        continue\n",
    "\n",
    "    error_header = error_message.split(\"\\n\")[0]\n",
    "    errors_encountered.add(error_header)\n",
    "\n",
    "errors_encountered"
   ]
  },
  {
   "cell_type": "code",
   "execution_count": 6,
   "outputs": [
    {
     "data": {
      "text/plain": "     Mutation_Effect_Label UniProt_ID Mutation Interactor_UniProt_ID pdb_id  \\\n0                        1     Q9BPZ3    F118A                P11940   1jgn   \n1                        1     P01116     Y40C                P50749   3ddc   \n2                        1     Q96QK1    F534D                Q9UBQ0   2r17   \n3                        1     Q96QK1    F534D              Q9UBQ0-2   2r17   \n4                        1   O43521-3     G66A                Q07812   3fdl   \n..                     ...        ...      ...                   ...    ...   \n735                      1     P84243     Q94A              Q9UER7-3   4hga   \n736                      1     Q96QK1    L589D                Q9UBQ0   2r17   \n737                      1     Q96QK1    L589D              Q9UBQ0-2   2r17   \n738                      1     P23297     F72L                P25815   2y5i   \n739                      1     Q15836     L46P                O43752   2nps   \n\n    chain_id  DDG_PREDICTED INTERFACE MutaBind2_Prediction  \n0          B            NaN       NaN                  NaN  \n1          A           2.38       Yes                  Yes  \n2          C           1.64       Yes                  Yes  \n3          C           1.62       Yes                  Yes  \n4          B            NaN       NaN                  NaN  \n..       ...            ...       ...                  ...  \n735        B            NaN       NaN                  NaN  \n736        C           1.37       Yes                   No  \n737        C           1.39       Yes                   No  \n738        A           2.09       Yes                  Yes  \n739        A            NaN       NaN                  NaN  \n\n[740 rows x 9 columns]",
      "text/html": "<div>\n<style scoped>\n    .dataframe tbody tr th:only-of-type {\n        vertical-align: middle;\n    }\n\n    .dataframe tbody tr th {\n        vertical-align: top;\n    }\n\n    .dataframe thead th {\n        text-align: right;\n    }\n</style>\n<table border=\"1\" class=\"dataframe\">\n  <thead>\n    <tr style=\"text-align: right;\">\n      <th></th>\n      <th>Mutation_Effect_Label</th>\n      <th>UniProt_ID</th>\n      <th>Mutation</th>\n      <th>Interactor_UniProt_ID</th>\n      <th>pdb_id</th>\n      <th>chain_id</th>\n      <th>DDG_PREDICTED</th>\n      <th>INTERFACE</th>\n      <th>MutaBind2_Prediction</th>\n    </tr>\n  </thead>\n  <tbody>\n    <tr>\n      <th>0</th>\n      <td>1</td>\n      <td>Q9BPZ3</td>\n      <td>F118A</td>\n      <td>P11940</td>\n      <td>1jgn</td>\n      <td>B</td>\n      <td>NaN</td>\n      <td>NaN</td>\n      <td>NaN</td>\n    </tr>\n    <tr>\n      <th>1</th>\n      <td>1</td>\n      <td>P01116</td>\n      <td>Y40C</td>\n      <td>P50749</td>\n      <td>3ddc</td>\n      <td>A</td>\n      <td>2.38</td>\n      <td>Yes</td>\n      <td>Yes</td>\n    </tr>\n    <tr>\n      <th>2</th>\n      <td>1</td>\n      <td>Q96QK1</td>\n      <td>F534D</td>\n      <td>Q9UBQ0</td>\n      <td>2r17</td>\n      <td>C</td>\n      <td>1.64</td>\n      <td>Yes</td>\n      <td>Yes</td>\n    </tr>\n    <tr>\n      <th>3</th>\n      <td>1</td>\n      <td>Q96QK1</td>\n      <td>F534D</td>\n      <td>Q9UBQ0-2</td>\n      <td>2r17</td>\n      <td>C</td>\n      <td>1.62</td>\n      <td>Yes</td>\n      <td>Yes</td>\n    </tr>\n    <tr>\n      <th>4</th>\n      <td>1</td>\n      <td>O43521-3</td>\n      <td>G66A</td>\n      <td>Q07812</td>\n      <td>3fdl</td>\n      <td>B</td>\n      <td>NaN</td>\n      <td>NaN</td>\n      <td>NaN</td>\n    </tr>\n    <tr>\n      <th>...</th>\n      <td>...</td>\n      <td>...</td>\n      <td>...</td>\n      <td>...</td>\n      <td>...</td>\n      <td>...</td>\n      <td>...</td>\n      <td>...</td>\n      <td>...</td>\n    </tr>\n    <tr>\n      <th>735</th>\n      <td>1</td>\n      <td>P84243</td>\n      <td>Q94A</td>\n      <td>Q9UER7-3</td>\n      <td>4hga</td>\n      <td>B</td>\n      <td>NaN</td>\n      <td>NaN</td>\n      <td>NaN</td>\n    </tr>\n    <tr>\n      <th>736</th>\n      <td>1</td>\n      <td>Q96QK1</td>\n      <td>L589D</td>\n      <td>Q9UBQ0</td>\n      <td>2r17</td>\n      <td>C</td>\n      <td>1.37</td>\n      <td>Yes</td>\n      <td>No</td>\n    </tr>\n    <tr>\n      <th>737</th>\n      <td>1</td>\n      <td>Q96QK1</td>\n      <td>L589D</td>\n      <td>Q9UBQ0-2</td>\n      <td>2r17</td>\n      <td>C</td>\n      <td>1.39</td>\n      <td>Yes</td>\n      <td>No</td>\n    </tr>\n    <tr>\n      <th>738</th>\n      <td>1</td>\n      <td>P23297</td>\n      <td>F72L</td>\n      <td>P25815</td>\n      <td>2y5i</td>\n      <td>A</td>\n      <td>2.09</td>\n      <td>Yes</td>\n      <td>Yes</td>\n    </tr>\n    <tr>\n      <th>739</th>\n      <td>1</td>\n      <td>Q15836</td>\n      <td>L46P</td>\n      <td>O43752</td>\n      <td>2nps</td>\n      <td>A</td>\n      <td>NaN</td>\n      <td>NaN</td>\n      <td>NaN</td>\n    </tr>\n  </tbody>\n</table>\n<p>740 rows × 9 columns</p>\n</div>"
     },
     "execution_count": 6,
     "metadata": {},
     "output_type": "execute_result"
    }
   ],
   "source": [
    "prediction_data = record_data[\n",
    "    [\"MUTATION_EFFECT_LABEL\", \"PROTEIN\", \"MUTATION\", \"INTERACTOR\", \"PDB_ID\", \"CHAIN_ID_1\", \"DDG_PREDICTED\", \"INTERFACE\", \"DELETERIOUS\"]\n",
    "].copy()\n",
    "\n",
    "prediction_data = prediction_data.rename(\n",
    "    columns={\n",
    "        \"MUTATION_EFFECT_LABEL\": \"Mutation_Effect_Label\",\n",
    "        \"PROTEIN\": \"UniProt_ID\",\n",
    "        \"MUTATION\": \"Mutation\",\n",
    "        \"INTERACTOR\": \"Interactor_UniProt_ID\",\n",
    "        \"PDB_ID\": \"pdb_id\",\n",
    "        \"CHAIN_ID_1\": \"chain_id\",\n",
    "        \"DELETERIOUS\": \"MutaBind2_Prediction\"\n",
    "    }\n",
    ")\n",
    "\n",
    "prediction_data"
   ],
   "metadata": {
    "collapsed": false,
    "pycharm": {
     "name": "#%%\n"
    }
   }
  },
  {
   "cell_type": "code",
   "execution_count": 7,
   "outputs": [
    {
     "name": "stdout",
     "output_type": "stream",
     "text": [
      "[nan, 'Yes', 'No']\n"
     ]
    },
    {
     "data": {
      "text/plain": "<Figure size 640x480 with 1 Axes>",
      "image/png": "[encoded data removed]"
     },
     "metadata": {},
     "output_type": "display_data"
    }
   ],
   "source": [
    "print(prediction_data[\"MutaBind2_Prediction\"].unique().tolist())\n",
    "prediction_data[\"MutaBind2_Prediction\"].value_counts().plot(kind=\"bar\");"
   ],
   "metadata": {
    "collapsed": false,
    "pycharm": {
     "name": "#%%\n"
    }
   }
  },
  {
   "cell_type": "code",
   "execution_count": 8,
   "outputs": [
    {
     "data": {
      "text/plain": "     Mutation_Effect_Label UniProt_ID Mutation Interactor_UniProt_ID pdb_id  \\\n0                        1     Q9BPZ3    F118A                P11940   1jgn   \n1                        1     P01116     Y40C                P50749   3ddc   \n2                        1     Q96QK1    F534D                Q9UBQ0   2r17   \n3                        1     Q96QK1    F534D              Q9UBQ0-2   2r17   \n4                        1   O43521-3     G66A                Q07812   3fdl   \n..                     ...        ...      ...                   ...    ...   \n735                      1     P84243     Q94A              Q9UER7-3   4hga   \n736                      1     Q96QK1    L589D                Q9UBQ0   2r17   \n737                      1     Q96QK1    L589D              Q9UBQ0-2   2r17   \n738                      1     P23297     F72L                P25815   2y5i   \n739                      1     Q15836     L46P                O43752   2nps   \n\n    chain_id  DDG_PREDICTED INTERFACE  MutaBind2_Prediction  \n0          B            NaN       NaN                   NaN  \n1          A           2.38       Yes                   1.0  \n2          C           1.64       Yes                   1.0  \n3          C           1.62       Yes                   1.0  \n4          B            NaN       NaN                   NaN  \n..       ...            ...       ...                   ...  \n735        B            NaN       NaN                   NaN  \n736        C           1.37       Yes                   0.0  \n737        C           1.39       Yes                   0.0  \n738        A           2.09       Yes                   1.0  \n739        A            NaN       NaN                   NaN  \n\n[740 rows x 9 columns]",
      "text/html": "<div>\n<style scoped>\n    .dataframe tbody tr th:only-of-type {\n        vertical-align: middle;\n    }\n\n    .dataframe tbody tr th {\n        vertical-align: top;\n    }\n\n    .dataframe thead th {\n        text-align: right;\n    }\n</style>\n<table border=\"1\" class=\"dataframe\">\n  <thead>\n    <tr style=\"text-align: right;\">\n      <th></th>\n      <th>Mutation_Effect_Label</th>\n      <th>UniProt_ID</th>\n      <th>Mutation</th>\n      <th>Interactor_UniProt_ID</th>\n      <th>pdb_id</th>\n      <th>chain_id</th>\n      <th>DDG_PREDICTED</th>\n      <th>INTERFACE</th>\n      <th>MutaBind2_Prediction</th>\n    </tr>\n  </thead>\n  <tbody>\n    <tr>\n      <th>0</th>\n      <td>1</td>\n      <td>Q9BPZ3</td>\n      <td>F118A</td>\n      <td>P11940</td>\n      <td>1jgn</td>\n      <td>B</td>\n      <td>NaN</td>\n      <td>NaN</td>\n      <td>NaN</td>\n    </tr>\n    <tr>\n      <th>1</th>\n      <td>1</td>\n      <td>P01116</td>\n      <td>Y40C</td>\n      <td>P50749</td>\n      <td>3ddc</td>\n      <td>A</td>\n      <td>2.38</td>\n      <td>Yes</td>\n      <td>1.0</td>\n    </tr>\n    <tr>\n      <th>2</th>\n      <td>1</td>\n      <td>Q96QK1</td>\n      <td>F534D</td>\n      <td>Q9UBQ0</td>\n      <td>2r17</td>\n      <td>C</td>\n      <td>1.64</td>\n      <td>Yes</td>\n      <td>1.0</td>\n    </tr>\n    <tr>\n      <th>3</th>\n      <td>1</td>\n      <td>Q96QK1</td>\n      <td>F534D</td>\n      <td>Q9UBQ0-2</td>\n      <td>2r17</td>\n      <td>C</td>\n      <td>1.62</td>\n      <td>Yes</td>\n      <td>1.0</td>\n    </tr>\n    <tr>\n      <th>4</th>\n      <td>1</td>\n      <td>O43521-3</td>\n      <td>G66A</td>\n      <td>Q07812</td>\n      <td>3fdl</td>\n      <td>B</td>\n      <td>NaN</td>\n      <td>NaN</td>\n      <td>NaN</td>\n    </tr>\n    <tr>\n      <th>...</th>\n      <td>...</td>\n      <td>...</td>\n      <td>...</td>\n      <td>...</td>\n      <td>...</td>\n      <td>...</td>\n      <td>...</td>\n      <td>...</td>\n      <td>...</td>\n    </tr>\n    <tr>\n      <th>735</th>\n      <td>1</td>\n      <td>P84243</td>\n      <td>Q94A</td>\n      <td>Q9UER7-3</td>\n      <td>4hga</td>\n      <td>B</td>\n      <td>NaN</td>\n      <td>NaN</td>\n      <td>NaN</td>\n    </tr>\n    <tr>\n      <th>736</th>\n      <td>1</td>\n      <td>Q96QK1</td>\n      <td>L589D</td>\n      <td>Q9UBQ0</td>\n      <td>2r17</td>\n      <td>C</td>\n      <td>1.37</td>\n      <td>Yes</td>\n      <td>0.0</td>\n    </tr>\n    <tr>\n      <th>737</th>\n      <td>1</td>\n      <td>Q96QK1</td>\n      <td>L589D</td>\n      <td>Q9UBQ0-2</td>\n      <td>2r17</td>\n      <td>C</td>\n      <td>1.39</td>\n      <td>Yes</td>\n      <td>0.0</td>\n    </tr>\n    <tr>\n      <th>738</th>\n      <td>1</td>\n      <td>P23297</td>\n      <td>F72L</td>\n      <td>P25815</td>\n      <td>2y5i</td>\n      <td>A</td>\n      <td>2.09</td>\n      <td>Yes</td>\n      <td>1.0</td>\n    </tr>\n    <tr>\n      <th>739</th>\n      <td>1</td>\n      <td>Q15836</td>\n      <td>L46P</td>\n      <td>O43752</td>\n      <td>2nps</td>\n      <td>A</td>\n      <td>NaN</td>\n      <td>NaN</td>\n      <td>NaN</td>\n    </tr>\n  </tbody>\n</table>\n<p>740 rows × 9 columns</p>\n</div>"
     },
     "execution_count": 8,
     "metadata": {},
     "output_type": "execute_result"
    }
   ],
   "source": [
    "prediction_data[\"MutaBind2_Prediction\"] = prediction_data[\"MutaBind2_Prediction\"].replace(\n",
    "    {\"Yes\": ClassLabels.DISRUPTING, \"No\": ClassLabels.NONDISRUPTING}\n",
    ")\n",
    "prediction_data"
   ],
   "metadata": {
    "collapsed": false,
    "pycharm": {
     "name": "#%%\n"
    }
   }
  },
  {
   "cell_type": "code",
   "execution_count": 9,
   "outputs": [
    {
     "data": {
      "text/plain": "<Figure size 640x480 with 1 Axes>",
      "image/png": "[encoded data removed]"
     },
     "metadata": {},
     "output_type": "display_data"
    }
   ],
   "source": [
    "prediction_data[\"MutaBind2_Prediction\"].value_counts().plot(kind=\"bar\");"
   ],
   "metadata": {
    "collapsed": false,
    "pycharm": {
     "name": "#%%\n"
    }
   }
  },
  {
   "cell_type": "code",
   "execution_count": 10,
   "metadata": {
    "pycharm": {
     "name": "#%%\n"
    }
   },
   "outputs": [],
   "source": [
    "from src.Benchmark.RivalStudies.MutaBind2.src.Record_.utils import save_prediction_data"
   ]
  },
  {
   "cell_type": "code",
   "execution_count": 12,
   "metadata": {
    "pycharm": {
     "name": "#%%\n"
    }
   },
   "outputs": [
    {
     "name": "stdout",
     "output_type": "stream",
     "text": [
      "Prediction data `.\\mutabind2_predictions_with_interface_col_2022-11-09.csv`is exported.\n"
     ]
    }
   ],
   "source": [
    "save_prediction_data(\".\", \"mutabind2_predictions_with_interface_col\", prediction_data)"
   ]
  },
  {
   "cell_type": "code",
   "execution_count": null,
   "metadata": {
    "pycharm": {
     "name": "#%%\n"
    }
   },
   "outputs": [],
   "source": []
  }
 ],
 "metadata": {
  "kernelspec": {
   "name": "predator",
   "language": "python",
   "display_name": "Predator"
  },
  "language_info": {
   "codemirror_mode": {
    "name": "ipython",
    "version": 3
   },
   "file_extension": ".py",
   "mimetype": "text/x-python",
   "name": "python",
   "nbconvert_exporter": "python",
   "pygments_lexer": "ipython3",
   "version": "3.9.4"
  }
 },
 "nbformat": 4,
 "nbformat_minor": 0
}